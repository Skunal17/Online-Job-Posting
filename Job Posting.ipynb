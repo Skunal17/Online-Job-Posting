{
 "cells": [
  {
   "cell_type": "code",
   "execution_count": 3,
   "metadata": {},
   "outputs": [],
   "source": [
    "import pandas as pd\n",
    "import numpy as np\n",
    "import matplotlib.pyplot as plt\n",
    "%matplotlib inline\n",
    "from sklearn.model_selection import train_test_split\n",
    "from sklearn.feature_extraction.text import CountVectorizer, TfidfVectorizer\n",
    "from sklearn.naive_bayes import MultinomialNB\n",
    "from sklearn.linear_model import LogisticRegression\n",
    "from sklearn import metrics\n",
    "from textblob import TextBlob, Word\n",
    "from nltk.stem.snowball import SnowballStemmer\n",
    "from sklearn.feature_extraction.text import CountVectorizer"
   ]
  },
  {
   "cell_type": "code",
   "execution_count": 4,
   "metadata": {},
   "outputs": [],
   "source": [
    "job= pd.read_csv('data job posts.csv')"
   ]
  },
  {
   "cell_type": "code",
   "execution_count": 5,
   "metadata": {},
   "outputs": [
    {
     "data": {
      "text/html": [
       "<div>\n",
       "<style scoped>\n",
       "    .dataframe tbody tr th:only-of-type {\n",
       "        vertical-align: middle;\n",
       "    }\n",
       "\n",
       "    .dataframe tbody tr th {\n",
       "        vertical-align: top;\n",
       "    }\n",
       "\n",
       "    .dataframe thead th {\n",
       "        text-align: right;\n",
       "    }\n",
       "</style>\n",
       "<table border=\"1\" class=\"dataframe\">\n",
       "  <thead>\n",
       "    <tr style=\"text-align: right;\">\n",
       "      <th></th>\n",
       "      <th>jobpost</th>\n",
       "      <th>date</th>\n",
       "      <th>Title</th>\n",
       "      <th>Company</th>\n",
       "      <th>AnnouncementCode</th>\n",
       "      <th>Term</th>\n",
       "      <th>Eligibility</th>\n",
       "      <th>Audience</th>\n",
       "      <th>StartDate</th>\n",
       "      <th>Duration</th>\n",
       "      <th>...</th>\n",
       "      <th>Salary</th>\n",
       "      <th>ApplicationP</th>\n",
       "      <th>OpeningDate</th>\n",
       "      <th>Deadline</th>\n",
       "      <th>Notes</th>\n",
       "      <th>AboutC</th>\n",
       "      <th>Attach</th>\n",
       "      <th>Year</th>\n",
       "      <th>Month</th>\n",
       "      <th>IT</th>\n",
       "    </tr>\n",
       "  </thead>\n",
       "  <tbody>\n",
       "    <tr>\n",
       "      <th>0</th>\n",
       "      <td>AMERIA Investment Consulting Company\\nJOB TITL...</td>\n",
       "      <td>Jan 5, 2004</td>\n",
       "      <td>Chief Financial Officer</td>\n",
       "      <td>AMERIA Investment Consulting Company</td>\n",
       "      <td>NaN</td>\n",
       "      <td>NaN</td>\n",
       "      <td>NaN</td>\n",
       "      <td>NaN</td>\n",
       "      <td>NaN</td>\n",
       "      <td>NaN</td>\n",
       "      <td>...</td>\n",
       "      <td>NaN</td>\n",
       "      <td>To apply for this position, please submit a\\nc...</td>\n",
       "      <td>NaN</td>\n",
       "      <td>26 January 2004</td>\n",
       "      <td>NaN</td>\n",
       "      <td>NaN</td>\n",
       "      <td>NaN</td>\n",
       "      <td>2004</td>\n",
       "      <td>1</td>\n",
       "      <td>False</td>\n",
       "    </tr>\n",
       "    <tr>\n",
       "      <th>1</th>\n",
       "      <td>International Research &amp; Exchanges Board (IREX...</td>\n",
       "      <td>Jan 7, 2004</td>\n",
       "      <td>Full-time Community Connections Intern (paid i...</td>\n",
       "      <td>International Research &amp; Exchanges Board (IREX)</td>\n",
       "      <td>NaN</td>\n",
       "      <td>NaN</td>\n",
       "      <td>NaN</td>\n",
       "      <td>NaN</td>\n",
       "      <td>NaN</td>\n",
       "      <td>3 months</td>\n",
       "      <td>...</td>\n",
       "      <td>NaN</td>\n",
       "      <td>Please submit a cover letter and resume to:\\nI...</td>\n",
       "      <td>NaN</td>\n",
       "      <td>12 January 2004</td>\n",
       "      <td>NaN</td>\n",
       "      <td>The International Research &amp; Exchanges Board (...</td>\n",
       "      <td>NaN</td>\n",
       "      <td>2004</td>\n",
       "      <td>1</td>\n",
       "      <td>False</td>\n",
       "    </tr>\n",
       "  </tbody>\n",
       "</table>\n",
       "<p>2 rows × 24 columns</p>\n",
       "</div>"
      ],
      "text/plain": [
       "                                             jobpost         date  \\\n",
       "0  AMERIA Investment Consulting Company\\nJOB TITL...  Jan 5, 2004   \n",
       "1  International Research & Exchanges Board (IREX...  Jan 7, 2004   \n",
       "\n",
       "                                               Title  \\\n",
       "0                            Chief Financial Officer   \n",
       "1  Full-time Community Connections Intern (paid i...   \n",
       "\n",
       "                                           Company AnnouncementCode Term  \\\n",
       "0             AMERIA Investment Consulting Company              NaN  NaN   \n",
       "1  International Research & Exchanges Board (IREX)              NaN  NaN   \n",
       "\n",
       "  Eligibility Audience StartDate  Duration  ... Salary  \\\n",
       "0         NaN      NaN       NaN       NaN  ...    NaN   \n",
       "1         NaN      NaN       NaN  3 months  ...    NaN   \n",
       "\n",
       "                                        ApplicationP OpeningDate  \\\n",
       "0  To apply for this position, please submit a\\nc...         NaN   \n",
       "1  Please submit a cover letter and resume to:\\nI...         NaN   \n",
       "\n",
       "          Deadline Notes                                             AboutC  \\\n",
       "0  26 January 2004   NaN                                                NaN   \n",
       "1  12 January 2004   NaN  The International Research & Exchanges Board (...   \n",
       "\n",
       "  Attach  Year Month     IT  \n",
       "0    NaN  2004     1  False  \n",
       "1    NaN  2004     1  False  \n",
       "\n",
       "[2 rows x 24 columns]"
      ]
     },
     "execution_count": 5,
     "metadata": {},
     "output_type": "execute_result"
    }
   ],
   "source": [
    "job.head(2)"
   ]
  },
  {
   "cell_type": "code",
   "execution_count": 6,
   "metadata": {},
   "outputs": [
    {
     "data": {
      "text/plain": [
       "Index(['jobpost', 'date', 'Title', 'Company', 'AnnouncementCode', 'Term',\n",
       "       'Eligibility', 'Audience', 'StartDate', 'Duration', 'Location',\n",
       "       'JobDescription', 'JobRequirment', 'RequiredQual', 'Salary',\n",
       "       'ApplicationP', 'OpeningDate', 'Deadline', 'Notes', 'AboutC', 'Attach',\n",
       "       'Year', 'Month', 'IT'],\n",
       "      dtype='object')"
      ]
     },
     "execution_count": 6,
     "metadata": {},
     "output_type": "execute_result"
    }
   ],
   "source": [
    "job.columns"
   ]
  },
  {
   "cell_type": "code",
   "execution_count": 7,
   "metadata": {},
   "outputs": [
    {
     "data": {
      "text/plain": [
       "(19001, 24)"
      ]
     },
     "execution_count": 7,
     "metadata": {},
     "output_type": "execute_result"
    }
   ],
   "source": [
    "job.shape"
   ]
  },
  {
   "cell_type": "code",
   "execution_count": 8,
   "metadata": {},
   "outputs": [],
   "source": [
    "Online_Job = job[['jobpost','Title','JobDescription', 'JobRequirment','RequiredQual','Year', 'Month', 'IT']]"
   ]
  },
  {
   "cell_type": "code",
   "execution_count": 9,
   "metadata": {},
   "outputs": [
    {
     "data": {
      "text/plain": [
       "(19001, 8)"
      ]
     },
     "execution_count": 9,
     "metadata": {},
     "output_type": "execute_result"
    }
   ],
   "source": [
    "Online_Job.shape"
   ]
  },
  {
   "cell_type": "code",
   "execution_count": 10,
   "metadata": {},
   "outputs": [
    {
     "name": "stderr",
     "output_type": "stream",
     "text": [
      "C:\\Users\\Kunnu\\Anaconda3\\lib\\site-packages\\ipykernel_launcher.py:1: SettingWithCopyWarning: \n",
      "A value is trying to be set on a copy of a slice from a DataFrame\n",
      "\n",
      "See the caveats in the documentation: http://pandas.pydata.org/pandas-docs/stable/indexing.html#indexing-view-versus-copy\n",
      "  \"\"\"Entry point for launching an IPython kernel.\n"
     ]
    }
   ],
   "source": [
    "Online_Job.drop_duplicates(subset=['jobpost', 'Title'], keep=False,inplace=True)"
   ]
  },
  {
   "cell_type": "code",
   "execution_count": 11,
   "metadata": {},
   "outputs": [
    {
     "data": {
      "text/plain": [
       "(18819, 8)"
      ]
     },
     "execution_count": 11,
     "metadata": {},
     "output_type": "execute_result"
    }
   ],
   "source": [
    "Online_Job.shape"
   ]
  },
  {
   "cell_type": "code",
   "execution_count": 13,
   "metadata": {},
   "outputs": [
    {
     "data": {
      "text/plain": [
       "jobpost              0\n",
       "Title               26\n",
       "JobDescription    3810\n",
       "JobRequirment     2440\n",
       "RequiredQual       420\n",
       "Year                 0\n",
       "Month                0\n",
       "IT                   0\n",
       "dtype: int64"
      ]
     },
     "execution_count": 13,
     "metadata": {},
     "output_type": "execute_result"
    }
   ],
   "source": [
    "Online_Job.isnull().sum()"
   ]
  },
  {
   "cell_type": "code",
   "execution_count": 14,
   "metadata": {},
   "outputs": [
    {
     "data": {
      "text/html": [
       "<div>\n",
       "<style scoped>\n",
       "    .dataframe tbody tr th:only-of-type {\n",
       "        vertical-align: middle;\n",
       "    }\n",
       "\n",
       "    .dataframe tbody tr th {\n",
       "        vertical-align: top;\n",
       "    }\n",
       "\n",
       "    .dataframe thead th {\n",
       "        text-align: right;\n",
       "    }\n",
       "</style>\n",
       "<table border=\"1\" class=\"dataframe\">\n",
       "  <thead>\n",
       "    <tr style=\"text-align: right;\">\n",
       "      <th></th>\n",
       "      <th>jobpost</th>\n",
       "      <th>Title</th>\n",
       "      <th>JobDescription</th>\n",
       "      <th>JobRequirment</th>\n",
       "      <th>RequiredQual</th>\n",
       "      <th>Year</th>\n",
       "      <th>Month</th>\n",
       "      <th>IT</th>\n",
       "    </tr>\n",
       "  </thead>\n",
       "  <tbody>\n",
       "    <tr>\n",
       "      <th>0</th>\n",
       "      <td>AMERIA Investment Consulting Company\\nJOB TITL...</td>\n",
       "      <td>Chief Financial Officer</td>\n",
       "      <td>AMERIA Investment Consulting Company is seekin...</td>\n",
       "      <td>- Supervises financial management and administ...</td>\n",
       "      <td>To perform this job successfully, an\\nindividu...</td>\n",
       "      <td>2004</td>\n",
       "      <td>1</td>\n",
       "      <td>False</td>\n",
       "    </tr>\n",
       "    <tr>\n",
       "      <th>1</th>\n",
       "      <td>International Research &amp; Exchanges Board (IREX...</td>\n",
       "      <td>Full-time Community Connections Intern (paid i...</td>\n",
       "      <td>NaN</td>\n",
       "      <td>NaN</td>\n",
       "      <td>- Bachelor's Degree; Master's is preferred;\\n-...</td>\n",
       "      <td>2004</td>\n",
       "      <td>1</td>\n",
       "      <td>False</td>\n",
       "    </tr>\n",
       "  </tbody>\n",
       "</table>\n",
       "</div>"
      ],
      "text/plain": [
       "                                             jobpost  \\\n",
       "0  AMERIA Investment Consulting Company\\nJOB TITL...   \n",
       "1  International Research & Exchanges Board (IREX...   \n",
       "\n",
       "                                               Title  \\\n",
       "0                            Chief Financial Officer   \n",
       "1  Full-time Community Connections Intern (paid i...   \n",
       "\n",
       "                                      JobDescription  \\\n",
       "0  AMERIA Investment Consulting Company is seekin...   \n",
       "1                                                NaN   \n",
       "\n",
       "                                       JobRequirment  \\\n",
       "0  - Supervises financial management and administ...   \n",
       "1                                                NaN   \n",
       "\n",
       "                                        RequiredQual  Year  Month     IT  \n",
       "0  To perform this job successfully, an\\nindividu...  2004      1  False  \n",
       "1  - Bachelor's Degree; Master's is preferred;\\n-...  2004      1  False  "
      ]
     },
     "execution_count": 14,
     "metadata": {},
     "output_type": "execute_result"
    }
   ],
   "source": [
    "Online_Job.head(2)"
   ]
  },
  {
   "cell_type": "code",
   "execution_count": 16,
   "metadata": {},
   "outputs": [
    {
     "name": "stderr",
     "output_type": "stream",
     "text": [
      "[nltk_data] Downloading package stopwords to\n",
      "[nltk_data]     C:\\Users\\Kunnu\\AppData\\Roaming\\nltk_data...\n",
      "[nltk_data]   Package stopwords is already up-to-date!\n"
     ]
    },
    {
     "data": {
      "text/plain": [
       "True"
      ]
     },
     "execution_count": 16,
     "metadata": {},
     "output_type": "execute_result"
    }
   ],
   "source": [
    "import nltk\n",
    "nltk.download('stopwords')"
   ]
  },
  {
   "cell_type": "code",
   "execution_count": 17,
   "metadata": {},
   "outputs": [],
   "source": [
    "from nltk.corpus import stopwords\n",
    "stop = stopwords.words('english')"
   ]
  },
  {
   "cell_type": "code",
   "execution_count": 18,
   "metadata": {},
   "outputs": [
    {
     "name": "stderr",
     "output_type": "stream",
     "text": [
      "C:\\Users\\Kunnu\\Anaconda3\\lib\\site-packages\\ipykernel_launcher.py:1: SettingWithCopyWarning: \n",
      "A value is trying to be set on a copy of a slice from a DataFrame.\n",
      "Try using .loc[row_indexer,col_indexer] = value instead\n",
      "\n",
      "See the caveats in the documentation: http://pandas.pydata.org/pandas-docs/stable/indexing.html#indexing-view-versus-copy\n",
      "  \"\"\"Entry point for launching an IPython kernel.\n"
     ]
    },
    {
     "data": {
      "text/html": [
       "<div>\n",
       "<style scoped>\n",
       "    .dataframe tbody tr th:only-of-type {\n",
       "        vertical-align: middle;\n",
       "    }\n",
       "\n",
       "    .dataframe tbody tr th {\n",
       "        vertical-align: top;\n",
       "    }\n",
       "\n",
       "    .dataframe thead th {\n",
       "        text-align: right;\n",
       "    }\n",
       "</style>\n",
       "<table border=\"1\" class=\"dataframe\">\n",
       "  <thead>\n",
       "    <tr style=\"text-align: right;\">\n",
       "      <th></th>\n",
       "      <th>jobpost</th>\n",
       "      <th>length</th>\n",
       "    </tr>\n",
       "  </thead>\n",
       "  <tbody>\n",
       "    <tr>\n",
       "      <th>0</th>\n",
       "      <td>AMERIA Investment Consulting Company\\nJOB TITL...</td>\n",
       "      <td>840</td>\n",
       "    </tr>\n",
       "    <tr>\n",
       "      <th>1</th>\n",
       "      <td>International Research &amp; Exchanges Board (IREX...</td>\n",
       "      <td>368</td>\n",
       "    </tr>\n",
       "    <tr>\n",
       "      <th>2</th>\n",
       "      <td>Caucasus Environmental NGO Network (CENN)\\nJOB...</td>\n",
       "      <td>301</td>\n",
       "    </tr>\n",
       "    <tr>\n",
       "      <th>3</th>\n",
       "      <td>Manoff Group\\nJOB TITLE:  BCC Specialist\\nPOSI...</td>\n",
       "      <td>591</td>\n",
       "    </tr>\n",
       "    <tr>\n",
       "      <th>4</th>\n",
       "      <td>Yerevan Brandy Company\\nJOB TITLE:  Software D...</td>\n",
       "      <td>204</td>\n",
       "    </tr>\n",
       "  </tbody>\n",
       "</table>\n",
       "</div>"
      ],
      "text/plain": [
       "                                             jobpost  length\n",
       "0  AMERIA Investment Consulting Company\\nJOB TITL...     840\n",
       "1  International Research & Exchanges Board (IREX...     368\n",
       "2  Caucasus Environmental NGO Network (CENN)\\nJOB...     301\n",
       "3  Manoff Group\\nJOB TITLE:  BCC Specialist\\nPOSI...     591\n",
       "4  Yerevan Brandy Company\\nJOB TITLE:  Software D...     204"
      ]
     },
     "execution_count": 18,
     "metadata": {},
     "output_type": "execute_result"
    }
   ],
   "source": [
    "Online_Job['length'] = Online_Job['jobpost'].apply(lambda x: len([x for x in x.split()]))\n",
    "Online_Job[['jobpost','length']].head()"
   ]
  },
  {
   "cell_type": "code",
   "execution_count": 19,
   "metadata": {},
   "outputs": [
    {
     "name": "stderr",
     "output_type": "stream",
     "text": [
      "C:\\Users\\Kunnu\\Anaconda3\\lib\\site-packages\\ipykernel_launcher.py:2: SettingWithCopyWarning: \n",
      "A value is trying to be set on a copy of a slice from a DataFrame.\n",
      "Try using .loc[row_indexer,col_indexer] = value instead\n",
      "\n",
      "See the caveats in the documentation: http://pandas.pydata.org/pandas-docs/stable/indexing.html#indexing-view-versus-copy\n",
      "  \n",
      "C:\\Users\\Kunnu\\Anaconda3\\lib\\site-packages\\ipykernel_launcher.py:3: SettingWithCopyWarning: \n",
      "A value is trying to be set on a copy of a slice from a DataFrame.\n",
      "Try using .loc[row_indexer,col_indexer] = value instead\n",
      "\n",
      "See the caveats in the documentation: http://pandas.pydata.org/pandas-docs/stable/indexing.html#indexing-view-versus-copy\n",
      "  This is separate from the ipykernel package so we can avoid doing imports until\n",
      "C:\\Users\\Kunnu\\Anaconda3\\lib\\site-packages\\ipykernel_launcher.py:4: SettingWithCopyWarning: \n",
      "A value is trying to be set on a copy of a slice from a DataFrame.\n",
      "Try using .loc[row_indexer,col_indexer] = value instead\n",
      "\n",
      "See the caveats in the documentation: http://pandas.pydata.org/pandas-docs/stable/indexing.html#indexing-view-versus-copy\n",
      "  after removing the cwd from sys.path.\n",
      "C:\\Users\\Kunnu\\Anaconda3\\lib\\site-packages\\ipykernel_launcher.py:5: SettingWithCopyWarning: \n",
      "A value is trying to be set on a copy of a slice from a DataFrame.\n",
      "Try using .loc[row_indexer,col_indexer] = value instead\n",
      "\n",
      "See the caveats in the documentation: http://pandas.pydata.org/pandas-docs/stable/indexing.html#indexing-view-versus-copy\n",
      "  \"\"\"\n",
      "C:\\Users\\Kunnu\\Anaconda3\\lib\\site-packages\\ipykernel_launcher.py:6: SettingWithCopyWarning: \n",
      "A value is trying to be set on a copy of a slice from a DataFrame.\n",
      "Try using .loc[row_indexer,col_indexer] = value instead\n",
      "\n",
      "See the caveats in the documentation: http://pandas.pydata.org/pandas-docs/stable/indexing.html#indexing-view-versus-copy\n",
      "  \n"
     ]
    },
    {
     "data": {
      "text/html": [
       "<div>\n",
       "<style scoped>\n",
       "    .dataframe tbody tr th:only-of-type {\n",
       "        vertical-align: middle;\n",
       "    }\n",
       "\n",
       "    .dataframe tbody tr th {\n",
       "        vertical-align: top;\n",
       "    }\n",
       "\n",
       "    .dataframe thead th {\n",
       "        text-align: right;\n",
       "    }\n",
       "</style>\n",
       "<table border=\"1\" class=\"dataframe\">\n",
       "  <thead>\n",
       "    <tr style=\"text-align: right;\">\n",
       "      <th></th>\n",
       "      <th>jobpost</th>\n",
       "      <th>Title</th>\n",
       "      <th>JobDescription</th>\n",
       "      <th>JobRequirment</th>\n",
       "      <th>RequiredQual</th>\n",
       "      <th>Year</th>\n",
       "      <th>Month</th>\n",
       "      <th>IT</th>\n",
       "      <th>length</th>\n",
       "      <th>jobpost1</th>\n",
       "      <th>Title1</th>\n",
       "      <th>JobDescription1</th>\n",
       "      <th>JobRequirment1</th>\n",
       "      <th>RequiredQual1</th>\n",
       "    </tr>\n",
       "  </thead>\n",
       "  <tbody>\n",
       "    <tr>\n",
       "      <th>0</th>\n",
       "      <td>AMERIA Investment Consulting Company\\nJOB TITL...</td>\n",
       "      <td>Chief Financial Officer</td>\n",
       "      <td>AMERIA Investment Consulting Company is seekin...</td>\n",
       "      <td>- Supervises financial management and administ...</td>\n",
       "      <td>To perform this job successfully, an\\nindividu...</td>\n",
       "      <td>2004</td>\n",
       "      <td>1</td>\n",
       "      <td>False</td>\n",
       "      <td>840</td>\n",
       "      <td>AMERIA Investment Consulting Company\\nJOB TITL...</td>\n",
       "      <td>Chief Financial Officer</td>\n",
       "      <td>AMERIA Investment Consulting Company is seekin...</td>\n",
       "      <td>Supervises financial management and administr...</td>\n",
       "      <td>To perform this job successfully an\\nindividua...</td>\n",
       "    </tr>\n",
       "    <tr>\n",
       "      <th>1</th>\n",
       "      <td>International Research &amp; Exchanges Board (IREX...</td>\n",
       "      <td>Full-time Community Connections Intern (paid i...</td>\n",
       "      <td>NaN</td>\n",
       "      <td>NaN</td>\n",
       "      <td>- Bachelor's Degree; Master's is preferred;\\n-...</td>\n",
       "      <td>2004</td>\n",
       "      <td>1</td>\n",
       "      <td>False</td>\n",
       "      <td>368</td>\n",
       "      <td>International Research  Exchanges Board IREX\\n...</td>\n",
       "      <td>Fulltime Community Connections Intern paid int...</td>\n",
       "      <td>NaN</td>\n",
       "      <td>NaN</td>\n",
       "      <td>Bachelors Degree Masters is preferred\\n Excel...</td>\n",
       "    </tr>\n",
       "  </tbody>\n",
       "</table>\n",
       "</div>"
      ],
      "text/plain": [
       "                                             jobpost  \\\n",
       "0  AMERIA Investment Consulting Company\\nJOB TITL...   \n",
       "1  International Research & Exchanges Board (IREX...   \n",
       "\n",
       "                                               Title  \\\n",
       "0                            Chief Financial Officer   \n",
       "1  Full-time Community Connections Intern (paid i...   \n",
       "\n",
       "                                      JobDescription  \\\n",
       "0  AMERIA Investment Consulting Company is seekin...   \n",
       "1                                                NaN   \n",
       "\n",
       "                                       JobRequirment  \\\n",
       "0  - Supervises financial management and administ...   \n",
       "1                                                NaN   \n",
       "\n",
       "                                        RequiredQual  Year  Month     IT  \\\n",
       "0  To perform this job successfully, an\\nindividu...  2004      1  False   \n",
       "1  - Bachelor's Degree; Master's is preferred;\\n-...  2004      1  False   \n",
       "\n",
       "   length                                           jobpost1  \\\n",
       "0     840  AMERIA Investment Consulting Company\\nJOB TITL...   \n",
       "1     368  International Research  Exchanges Board IREX\\n...   \n",
       "\n",
       "                                              Title1  \\\n",
       "0                            Chief Financial Officer   \n",
       "1  Fulltime Community Connections Intern paid int...   \n",
       "\n",
       "                                     JobDescription1  \\\n",
       "0  AMERIA Investment Consulting Company is seekin...   \n",
       "1                                                NaN   \n",
       "\n",
       "                                      JobRequirment1  \\\n",
       "0   Supervises financial management and administr...   \n",
       "1                                                NaN   \n",
       "\n",
       "                                       RequiredQual1  \n",
       "0  To perform this job successfully an\\nindividua...  \n",
       "1   Bachelors Degree Masters is preferred\\n Excel...  "
      ]
     },
     "execution_count": 19,
     "metadata": {},
     "output_type": "execute_result"
    }
   ],
   "source": [
    "## Removing Punctuation\n",
    "Online_Job['jobpost1'] = Online_Job['jobpost'].str.replace('[^\\w\\s]','')\n",
    "Online_Job['Title1'] = Online_Job['Title'].str.replace('[^\\w\\s]','')\n",
    "Online_Job['JobDescription1'] = Online_Job['JobDescription'].str.replace('[^\\w\\s]','')\n",
    "Online_Job['JobRequirment1'] = Online_Job['JobRequirment'].str.replace('[^\\w\\s]','')\n",
    "Online_Job['RequiredQual1'] = Online_Job['RequiredQual'].str.replace('[^\\w\\s]','')\n",
    "Online_Job.head(2)"
   ]
  },
  {
   "cell_type": "code",
   "execution_count": 20,
   "metadata": {},
   "outputs": [
    {
     "data": {
      "text/plain": [
       "Index(['jobpost', 'Title', 'JobDescription', 'JobRequirment', 'RequiredQual',\n",
       "       'Year', 'Month', 'IT', 'length', 'jobpost1', 'Title1',\n",
       "       'JobDescription1', 'JobRequirment1', 'RequiredQual1'],\n",
       "      dtype='object')"
      ]
     },
     "execution_count": 20,
     "metadata": {},
     "output_type": "execute_result"
    }
   ],
   "source": [
    "Online_Job.columns"
   ]
  },
  {
   "cell_type": "code",
   "execution_count": 21,
   "metadata": {},
   "outputs": [
    {
     "name": "stderr",
     "output_type": "stream",
     "text": [
      "C:\\Users\\Kunnu\\Anaconda3\\lib\\site-packages\\ipykernel_launcher.py:1: SettingWithCopyWarning: \n",
      "A value is trying to be set on a copy of a slice from a DataFrame.\n",
      "Try using .loc[row_indexer,col_indexer] = value instead\n",
      "\n",
      "See the caveats in the documentation: http://pandas.pydata.org/pandas-docs/stable/indexing.html#indexing-view-versus-copy\n",
      "  \"\"\"Entry point for launching an IPython kernel.\n"
     ]
    }
   ],
   "source": [
    "Online_Job['jobpost3'] = Online_Job['jobpost1'].apply(lambda x: x.replace('\\n',' '))"
   ]
  },
  {
   "cell_type": "code",
   "execution_count": 22,
   "metadata": {},
   "outputs": [
    {
     "data": {
      "text/plain": [
       "jobpost               0\n",
       "Title                26\n",
       "JobDescription     3810\n",
       "JobRequirment      2440\n",
       "RequiredQual        420\n",
       "Year                  0\n",
       "Month                 0\n",
       "IT                    0\n",
       "length                0\n",
       "jobpost1              0\n",
       "Title1               26\n",
       "JobDescription1    3810\n",
       "JobRequirment1     2440\n",
       "RequiredQual1       420\n",
       "jobpost3              0\n",
       "dtype: int64"
      ]
     },
     "execution_count": 22,
     "metadata": {},
     "output_type": "execute_result"
    }
   ],
   "source": [
    "Online_Job.isnull().sum()"
   ]
  },
  {
   "cell_type": "code",
   "execution_count": 23,
   "metadata": {},
   "outputs": [
    {
     "name": "stderr",
     "output_type": "stream",
     "text": [
      "C:\\Users\\Kunnu\\Anaconda3\\lib\\site-packages\\ipykernel_launcher.py:1: SettingWithCopyWarning: \n",
      "A value is trying to be set on a copy of a slice from a DataFrame\n",
      "\n",
      "See the caveats in the documentation: http://pandas.pydata.org/pandas-docs/stable/indexing.html#indexing-view-versus-copy\n",
      "  \"\"\"Entry point for launching an IPython kernel.\n"
     ]
    }
   ],
   "source": [
    "Online_Job.dropna(inplace=True)"
   ]
  },
  {
   "cell_type": "code",
   "execution_count": 24,
   "metadata": {},
   "outputs": [
    {
     "data": {
      "text/plain": [
       "(13042, 15)"
      ]
     },
     "execution_count": 24,
     "metadata": {},
     "output_type": "execute_result"
    }
   ],
   "source": [
    "Online_Job.shape"
   ]
  },
  {
   "cell_type": "code",
   "execution_count": 25,
   "metadata": {},
   "outputs": [
    {
     "name": "stderr",
     "output_type": "stream",
     "text": [
      "C:\\Users\\Kunnu\\Anaconda3\\lib\\site-packages\\ipykernel_launcher.py:2: SettingWithCopyWarning: \n",
      "A value is trying to be set on a copy of a slice from a DataFrame.\n",
      "Try using .loc[row_indexer,col_indexer] = value instead\n",
      "\n",
      "See the caveats in the documentation: http://pandas.pydata.org/pandas-docs/stable/indexing.html#indexing-view-versus-copy\n",
      "  \n",
      "C:\\Users\\Kunnu\\Anaconda3\\lib\\site-packages\\ipykernel_launcher.py:3: SettingWithCopyWarning: \n",
      "A value is trying to be set on a copy of a slice from a DataFrame.\n",
      "Try using .loc[row_indexer,col_indexer] = value instead\n",
      "\n",
      "See the caveats in the documentation: http://pandas.pydata.org/pandas-docs/stable/indexing.html#indexing-view-versus-copy\n",
      "  This is separate from the ipykernel package so we can avoid doing imports until\n",
      "C:\\Users\\Kunnu\\Anaconda3\\lib\\site-packages\\ipykernel_launcher.py:4: SettingWithCopyWarning: \n",
      "A value is trying to be set on a copy of a slice from a DataFrame.\n",
      "Try using .loc[row_indexer,col_indexer] = value instead\n",
      "\n",
      "See the caveats in the documentation: http://pandas.pydata.org/pandas-docs/stable/indexing.html#indexing-view-versus-copy\n",
      "  after removing the cwd from sys.path.\n",
      "C:\\Users\\Kunnu\\Anaconda3\\lib\\site-packages\\ipykernel_launcher.py:5: SettingWithCopyWarning: \n",
      "A value is trying to be set on a copy of a slice from a DataFrame.\n",
      "Try using .loc[row_indexer,col_indexer] = value instead\n",
      "\n",
      "See the caveats in the documentation: http://pandas.pydata.org/pandas-docs/stable/indexing.html#indexing-view-versus-copy\n",
      "  \"\"\"\n",
      "C:\\Users\\Kunnu\\Anaconda3\\lib\\site-packages\\ipykernel_launcher.py:6: SettingWithCopyWarning: \n",
      "A value is trying to be set on a copy of a slice from a DataFrame.\n",
      "Try using .loc[row_indexer,col_indexer] = value instead\n",
      "\n",
      "See the caveats in the documentation: http://pandas.pydata.org/pandas-docs/stable/indexing.html#indexing-view-versus-copy\n",
      "  \n"
     ]
    }
   ],
   "source": [
    "# keeping those words which have only alphabets \n",
    "Online_Job['jobpost3'] = Online_Job['jobpost1'].apply(lambda x: ' '.join(x for x in x.split() if x.isalpha()))\n",
    "Online_Job['Title3'] = Online_Job['Title1'].apply(lambda x: ' '.join(x for x in x.split() if x.isalpha()))\n",
    "Online_Job['JobDescription3'] = Online_Job['JobDescription1'].apply(lambda x: ' '.join(x for x in x.split() if x.isalpha()))\n",
    "Online_Job['JobRequirment3'] = Online_Job['JobRequirment1'].apply(lambda x: ' '.join(x for x in x.split() if x.isalpha()))\n",
    "Online_Job['RequiredQual3'] = Online_Job['RequiredQual1'].apply(lambda x: ' '.join(x for x in x.split() if x.isalpha()))\n"
   ]
  },
  {
   "cell_type": "code",
   "execution_count": 26,
   "metadata": {},
   "outputs": [
    {
     "data": {
      "text/html": [
       "<div>\n",
       "<style scoped>\n",
       "    .dataframe tbody tr th:only-of-type {\n",
       "        vertical-align: middle;\n",
       "    }\n",
       "\n",
       "    .dataframe tbody tr th {\n",
       "        vertical-align: top;\n",
       "    }\n",
       "\n",
       "    .dataframe thead th {\n",
       "        text-align: right;\n",
       "    }\n",
       "</style>\n",
       "<table border=\"1\" class=\"dataframe\">\n",
       "  <thead>\n",
       "    <tr style=\"text-align: right;\">\n",
       "      <th></th>\n",
       "      <th>jobpost</th>\n",
       "      <th>Title</th>\n",
       "      <th>JobDescription</th>\n",
       "      <th>JobRequirment</th>\n",
       "      <th>RequiredQual</th>\n",
       "      <th>Year</th>\n",
       "      <th>Month</th>\n",
       "      <th>IT</th>\n",
       "      <th>length</th>\n",
       "      <th>jobpost1</th>\n",
       "      <th>Title1</th>\n",
       "      <th>JobDescription1</th>\n",
       "      <th>JobRequirment1</th>\n",
       "      <th>RequiredQual1</th>\n",
       "      <th>jobpost3</th>\n",
       "      <th>Title3</th>\n",
       "      <th>JobDescription3</th>\n",
       "      <th>JobRequirment3</th>\n",
       "      <th>RequiredQual3</th>\n",
       "    </tr>\n",
       "  </thead>\n",
       "  <tbody>\n",
       "    <tr>\n",
       "      <th>0</th>\n",
       "      <td>AMERIA Investment Consulting Company\\nJOB TITL...</td>\n",
       "      <td>Chief Financial Officer</td>\n",
       "      <td>AMERIA Investment Consulting Company is seekin...</td>\n",
       "      <td>- Supervises financial management and administ...</td>\n",
       "      <td>To perform this job successfully, an\\nindividu...</td>\n",
       "      <td>2004</td>\n",
       "      <td>1</td>\n",
       "      <td>False</td>\n",
       "      <td>840</td>\n",
       "      <td>AMERIA Investment Consulting Company\\nJOB TITL...</td>\n",
       "      <td>Chief Financial Officer</td>\n",
       "      <td>AMERIA Investment Consulting Company is seekin...</td>\n",
       "      <td>Supervises financial management and administr...</td>\n",
       "      <td>To perform this job successfully an\\nindividua...</td>\n",
       "      <td>AMERIA Investment Consulting Company JOB TITLE...</td>\n",
       "      <td>Chief Financial Officer</td>\n",
       "      <td>AMERIA Investment Consulting Company is seekin...</td>\n",
       "      <td>Supervises financial management and administra...</td>\n",
       "      <td>To perform this job successfully an individual...</td>\n",
       "    </tr>\n",
       "    <tr>\n",
       "      <th>2</th>\n",
       "      <td>Caucasus Environmental NGO Network (CENN)\\nJOB...</td>\n",
       "      <td>Country Coordinator</td>\n",
       "      <td>Public outreach and strengthening of a growing...</td>\n",
       "      <td>- Working with the Country Director to provide...</td>\n",
       "      <td>- Degree in environmentally related field, or ...</td>\n",
       "      <td>2004</td>\n",
       "      <td>1</td>\n",
       "      <td>False</td>\n",
       "      <td>301</td>\n",
       "      <td>Caucasus Environmental NGO Network CENN\\nJOB T...</td>\n",
       "      <td>Country Coordinator</td>\n",
       "      <td>Public outreach and strengthening of a growing...</td>\n",
       "      <td>Working with the Country Director to provide ...</td>\n",
       "      <td>Degree in environmentally related field or 5 ...</td>\n",
       "      <td>Caucasus Environmental NGO Network CENN JOB TI...</td>\n",
       "      <td>Country Coordinator</td>\n",
       "      <td>Public outreach and strengthening of a growing...</td>\n",
       "      <td>Working with the Country Director to provide e...</td>\n",
       "      <td>Degree in environmentally related field or yea...</td>\n",
       "    </tr>\n",
       "  </tbody>\n",
       "</table>\n",
       "</div>"
      ],
      "text/plain": [
       "                                             jobpost                    Title  \\\n",
       "0  AMERIA Investment Consulting Company\\nJOB TITL...  Chief Financial Officer   \n",
       "2  Caucasus Environmental NGO Network (CENN)\\nJOB...      Country Coordinator   \n",
       "\n",
       "                                      JobDescription  \\\n",
       "0  AMERIA Investment Consulting Company is seekin...   \n",
       "2  Public outreach and strengthening of a growing...   \n",
       "\n",
       "                                       JobRequirment  \\\n",
       "0  - Supervises financial management and administ...   \n",
       "2  - Working with the Country Director to provide...   \n",
       "\n",
       "                                        RequiredQual  Year  Month     IT  \\\n",
       "0  To perform this job successfully, an\\nindividu...  2004      1  False   \n",
       "2  - Degree in environmentally related field, or ...  2004      1  False   \n",
       "\n",
       "   length                                           jobpost1  \\\n",
       "0     840  AMERIA Investment Consulting Company\\nJOB TITL...   \n",
       "2     301  Caucasus Environmental NGO Network CENN\\nJOB T...   \n",
       "\n",
       "                    Title1                                    JobDescription1  \\\n",
       "0  Chief Financial Officer  AMERIA Investment Consulting Company is seekin...   \n",
       "2      Country Coordinator  Public outreach and strengthening of a growing...   \n",
       "\n",
       "                                      JobRequirment1  \\\n",
       "0   Supervises financial management and administr...   \n",
       "2   Working with the Country Director to provide ...   \n",
       "\n",
       "                                       RequiredQual1  \\\n",
       "0  To perform this job successfully an\\nindividua...   \n",
       "2   Degree in environmentally related field or 5 ...   \n",
       "\n",
       "                                            jobpost3                   Title3  \\\n",
       "0  AMERIA Investment Consulting Company JOB TITLE...  Chief Financial Officer   \n",
       "2  Caucasus Environmental NGO Network CENN JOB TI...      Country Coordinator   \n",
       "\n",
       "                                     JobDescription3  \\\n",
       "0  AMERIA Investment Consulting Company is seekin...   \n",
       "2  Public outreach and strengthening of a growing...   \n",
       "\n",
       "                                      JobRequirment3  \\\n",
       "0  Supervises financial management and administra...   \n",
       "2  Working with the Country Director to provide e...   \n",
       "\n",
       "                                       RequiredQual3  \n",
       "0  To perform this job successfully an individual...  \n",
       "2  Degree in environmentally related field or yea...  "
      ]
     },
     "execution_count": 26,
     "metadata": {},
     "output_type": "execute_result"
    }
   ],
   "source": [
    "Online_Job.head(2)"
   ]
  },
  {
   "cell_type": "code",
   "execution_count": 27,
   "metadata": {},
   "outputs": [
    {
     "name": "stderr",
     "output_type": "stream",
     "text": [
      "C:\\Users\\Kunnu\\Anaconda3\\lib\\site-packages\\ipykernel_launcher.py:3: SettingWithCopyWarning: \n",
      "A value is trying to be set on a copy of a slice from a DataFrame.\n",
      "Try using .loc[row_indexer,col_indexer] = value instead\n",
      "\n",
      "See the caveats in the documentation: http://pandas.pydata.org/pandas-docs/stable/indexing.html#indexing-view-versus-copy\n",
      "  This is separate from the ipykernel package so we can avoid doing imports until\n",
      "C:\\Users\\Kunnu\\Anaconda3\\lib\\site-packages\\ipykernel_launcher.py:4: SettingWithCopyWarning: \n",
      "A value is trying to be set on a copy of a slice from a DataFrame.\n",
      "Try using .loc[row_indexer,col_indexer] = value instead\n",
      "\n",
      "See the caveats in the documentation: http://pandas.pydata.org/pandas-docs/stable/indexing.html#indexing-view-versus-copy\n",
      "  after removing the cwd from sys.path.\n",
      "C:\\Users\\Kunnu\\Anaconda3\\lib\\site-packages\\ipykernel_launcher.py:5: SettingWithCopyWarning: \n",
      "A value is trying to be set on a copy of a slice from a DataFrame.\n",
      "Try using .loc[row_indexer,col_indexer] = value instead\n",
      "\n",
      "See the caveats in the documentation: http://pandas.pydata.org/pandas-docs/stable/indexing.html#indexing-view-versus-copy\n",
      "  \"\"\"\n",
      "C:\\Users\\Kunnu\\Anaconda3\\lib\\site-packages\\ipykernel_launcher.py:6: SettingWithCopyWarning: \n",
      "A value is trying to be set on a copy of a slice from a DataFrame.\n",
      "Try using .loc[row_indexer,col_indexer] = value instead\n",
      "\n",
      "See the caveats in the documentation: http://pandas.pydata.org/pandas-docs/stable/indexing.html#indexing-view-versus-copy\n",
      "  \n",
      "C:\\Users\\Kunnu\\Anaconda3\\lib\\site-packages\\ipykernel_launcher.py:7: SettingWithCopyWarning: \n",
      "A value is trying to be set on a copy of a slice from a DataFrame.\n",
      "Try using .loc[row_indexer,col_indexer] = value instead\n",
      "\n",
      "See the caveats in the documentation: http://pandas.pydata.org/pandas-docs/stable/indexing.html#indexing-view-versus-copy\n",
      "  import sys\n"
     ]
    }
   ],
   "source": [
    "### Removing stop words\n",
    "stop = stopwords.words('english')\n",
    "Online_Job['jobpost4'] = Online_Job['jobpost3'].apply(lambda x: \" \".join(x for x in x.split() if x not in stop))\n",
    "Online_Job['Title4'] = Online_Job['Title3'].apply(lambda x: \" \".join(x for x in x.split() if x not in stop))\n",
    "Online_Job['JobDescription4'] = Online_Job['JobDescription3'].apply(lambda x: \" \".join(x for x in x.split() if x not in stop))\n",
    "Online_Job['JobRequirment4'] = Online_Job['JobRequirment3'].apply(lambda x: \" \".join(x for x in x.split() if x not in stop))\n",
    "Online_Job['RequiredQual4'] = Online_Job['RequiredQual3'].apply(lambda x: \" \".join(x for x in x.split() if x not in stop))\n"
   ]
  },
  {
   "cell_type": "code",
   "execution_count": 28,
   "metadata": {},
   "outputs": [
    {
     "data": {
      "text/html": [
       "<div>\n",
       "<style scoped>\n",
       "    .dataframe tbody tr th:only-of-type {\n",
       "        vertical-align: middle;\n",
       "    }\n",
       "\n",
       "    .dataframe tbody tr th {\n",
       "        vertical-align: top;\n",
       "    }\n",
       "\n",
       "    .dataframe thead th {\n",
       "        text-align: right;\n",
       "    }\n",
       "</style>\n",
       "<table border=\"1\" class=\"dataframe\">\n",
       "  <thead>\n",
       "    <tr style=\"text-align: right;\">\n",
       "      <th></th>\n",
       "      <th>jobpost</th>\n",
       "      <th>Title</th>\n",
       "      <th>JobDescription</th>\n",
       "      <th>JobRequirment</th>\n",
       "      <th>RequiredQual</th>\n",
       "      <th>Year</th>\n",
       "      <th>Month</th>\n",
       "      <th>IT</th>\n",
       "      <th>length</th>\n",
       "      <th>jobpost1</th>\n",
       "      <th>...</th>\n",
       "      <th>jobpost3</th>\n",
       "      <th>Title3</th>\n",
       "      <th>JobDescription3</th>\n",
       "      <th>JobRequirment3</th>\n",
       "      <th>RequiredQual3</th>\n",
       "      <th>jobpost4</th>\n",
       "      <th>Title4</th>\n",
       "      <th>JobDescription4</th>\n",
       "      <th>JobRequirment4</th>\n",
       "      <th>RequiredQual4</th>\n",
       "    </tr>\n",
       "  </thead>\n",
       "  <tbody>\n",
       "    <tr>\n",
       "      <th>0</th>\n",
       "      <td>AMERIA Investment Consulting Company\\nJOB TITL...</td>\n",
       "      <td>Chief Financial Officer</td>\n",
       "      <td>AMERIA Investment Consulting Company is seekin...</td>\n",
       "      <td>- Supervises financial management and administ...</td>\n",
       "      <td>To perform this job successfully, an\\nindividu...</td>\n",
       "      <td>2004</td>\n",
       "      <td>1</td>\n",
       "      <td>False</td>\n",
       "      <td>840</td>\n",
       "      <td>AMERIA Investment Consulting Company\\nJOB TITL...</td>\n",
       "      <td>...</td>\n",
       "      <td>AMERIA Investment Consulting Company JOB TITLE...</td>\n",
       "      <td>Chief Financial Officer</td>\n",
       "      <td>AMERIA Investment Consulting Company is seekin...</td>\n",
       "      <td>Supervises financial management and administra...</td>\n",
       "      <td>To perform this job successfully an individual...</td>\n",
       "      <td>AMERIA Investment Consulting Company JOB TITLE...</td>\n",
       "      <td>Chief Financial Officer</td>\n",
       "      <td>AMERIA Investment Consulting Company seeking C...</td>\n",
       "      <td>Supervises financial management administrative...</td>\n",
       "      <td>To perform job successfully individual must ab...</td>\n",
       "    </tr>\n",
       "  </tbody>\n",
       "</table>\n",
       "<p>1 rows × 24 columns</p>\n",
       "</div>"
      ],
      "text/plain": [
       "                                             jobpost                    Title  \\\n",
       "0  AMERIA Investment Consulting Company\\nJOB TITL...  Chief Financial Officer   \n",
       "\n",
       "                                      JobDescription  \\\n",
       "0  AMERIA Investment Consulting Company is seekin...   \n",
       "\n",
       "                                       JobRequirment  \\\n",
       "0  - Supervises financial management and administ...   \n",
       "\n",
       "                                        RequiredQual  Year  Month     IT  \\\n",
       "0  To perform this job successfully, an\\nindividu...  2004      1  False   \n",
       "\n",
       "   length                                           jobpost1  ...  \\\n",
       "0     840  AMERIA Investment Consulting Company\\nJOB TITL...  ...   \n",
       "\n",
       "                                            jobpost3                   Title3  \\\n",
       "0  AMERIA Investment Consulting Company JOB TITLE...  Chief Financial Officer   \n",
       "\n",
       "                                     JobDescription3  \\\n",
       "0  AMERIA Investment Consulting Company is seekin...   \n",
       "\n",
       "                                      JobRequirment3  \\\n",
       "0  Supervises financial management and administra...   \n",
       "\n",
       "                                       RequiredQual3  \\\n",
       "0  To perform this job successfully an individual...   \n",
       "\n",
       "                                            jobpost4                   Title4  \\\n",
       "0  AMERIA Investment Consulting Company JOB TITLE...  Chief Financial Officer   \n",
       "\n",
       "                                     JobDescription4  \\\n",
       "0  AMERIA Investment Consulting Company seeking C...   \n",
       "\n",
       "                                      JobRequirment4  \\\n",
       "0  Supervises financial management administrative...   \n",
       "\n",
       "                                       RequiredQual4  \n",
       "0  To perform job successfully individual must ab...  \n",
       "\n",
       "[1 rows x 24 columns]"
      ]
     },
     "execution_count": 28,
     "metadata": {},
     "output_type": "execute_result"
    }
   ],
   "source": [
    "Online_Job.head(1)"
   ]
  },
  {
   "cell_type": "code",
   "execution_count": 29,
   "metadata": {},
   "outputs": [
    {
     "name": "stderr",
     "output_type": "stream",
     "text": [
      "C:\\Users\\Kunnu\\Anaconda3\\lib\\site-packages\\ipykernel_launcher.py:2: SettingWithCopyWarning: \n",
      "A value is trying to be set on a copy of a slice from a DataFrame.\n",
      "Try using .loc[row_indexer,col_indexer] = value instead\n",
      "\n",
      "See the caveats in the documentation: http://pandas.pydata.org/pandas-docs/stable/indexing.html#indexing-view-versus-copy\n",
      "  \n",
      "C:\\Users\\Kunnu\\Anaconda3\\lib\\site-packages\\ipykernel_launcher.py:3: SettingWithCopyWarning: \n",
      "A value is trying to be set on a copy of a slice from a DataFrame.\n",
      "Try using .loc[row_indexer,col_indexer] = value instead\n",
      "\n",
      "See the caveats in the documentation: http://pandas.pydata.org/pandas-docs/stable/indexing.html#indexing-view-versus-copy\n",
      "  This is separate from the ipykernel package so we can avoid doing imports until\n",
      "C:\\Users\\Kunnu\\Anaconda3\\lib\\site-packages\\ipykernel_launcher.py:4: SettingWithCopyWarning: \n",
      "A value is trying to be set on a copy of a slice from a DataFrame.\n",
      "Try using .loc[row_indexer,col_indexer] = value instead\n",
      "\n",
      "See the caveats in the documentation: http://pandas.pydata.org/pandas-docs/stable/indexing.html#indexing-view-versus-copy\n",
      "  after removing the cwd from sys.path.\n",
      "C:\\Users\\Kunnu\\Anaconda3\\lib\\site-packages\\ipykernel_launcher.py:5: SettingWithCopyWarning: \n",
      "A value is trying to be set on a copy of a slice from a DataFrame.\n",
      "Try using .loc[row_indexer,col_indexer] = value instead\n",
      "\n",
      "See the caveats in the documentation: http://pandas.pydata.org/pandas-docs/stable/indexing.html#indexing-view-versus-copy\n",
      "  \"\"\"\n",
      "C:\\Users\\Kunnu\\Anaconda3\\lib\\site-packages\\ipykernel_launcher.py:6: SettingWithCopyWarning: \n",
      "A value is trying to be set on a copy of a slice from a DataFrame.\n",
      "Try using .loc[row_indexer,col_indexer] = value instead\n",
      "\n",
      "See the caveats in the documentation: http://pandas.pydata.org/pandas-docs/stable/indexing.html#indexing-view-versus-copy\n",
      "  \n"
     ]
    }
   ],
   "source": [
    "# coverting all cloumns to lower case\n",
    "Online_Job['jobpost5']          = Online_Job['jobpost4'].apply(lambda x: \" \".join(x.lower() for x in x.split()))\n",
    "Online_Job['Title5']            = Online_Job['Title4'].apply(lambda x: \" \".join(x.lower() for x in x.split()))\n",
    "Online_Job['JobDescription5']   = Online_Job['JobDescription4'].apply(lambda x: \" \".join(x.lower() for x in x.split()))\n",
    "Online_Job['JobRequirment5']    = Online_Job['JobRequirment4'].apply(lambda x: \" \".join(x.lower() for x in x.split()))\n",
    "Online_Job['RequiredQual5']     = Online_Job['RequiredQual4'].apply(lambda x: \" \".join(x.lower() for x in x.split()))\n"
   ]
  },
  {
   "cell_type": "code",
   "execution_count": 30,
   "metadata": {},
   "outputs": [
    {
     "data": {
      "text/html": [
       "<div>\n",
       "<style scoped>\n",
       "    .dataframe tbody tr th:only-of-type {\n",
       "        vertical-align: middle;\n",
       "    }\n",
       "\n",
       "    .dataframe tbody tr th {\n",
       "        vertical-align: top;\n",
       "    }\n",
       "\n",
       "    .dataframe thead th {\n",
       "        text-align: right;\n",
       "    }\n",
       "</style>\n",
       "<table border=\"1\" class=\"dataframe\">\n",
       "  <thead>\n",
       "    <tr style=\"text-align: right;\">\n",
       "      <th></th>\n",
       "      <th>jobpost</th>\n",
       "      <th>Title</th>\n",
       "      <th>JobDescription</th>\n",
       "      <th>JobRequirment</th>\n",
       "      <th>RequiredQual</th>\n",
       "      <th>Year</th>\n",
       "      <th>Month</th>\n",
       "      <th>IT</th>\n",
       "      <th>length</th>\n",
       "      <th>jobpost1</th>\n",
       "      <th>...</th>\n",
       "      <th>jobpost4</th>\n",
       "      <th>Title4</th>\n",
       "      <th>JobDescription4</th>\n",
       "      <th>JobRequirment4</th>\n",
       "      <th>RequiredQual4</th>\n",
       "      <th>jobpost5</th>\n",
       "      <th>Title5</th>\n",
       "      <th>JobDescription5</th>\n",
       "      <th>JobRequirment5</th>\n",
       "      <th>RequiredQual5</th>\n",
       "    </tr>\n",
       "  </thead>\n",
       "  <tbody>\n",
       "    <tr>\n",
       "      <th>0</th>\n",
       "      <td>AMERIA Investment Consulting Company\\nJOB TITL...</td>\n",
       "      <td>Chief Financial Officer</td>\n",
       "      <td>AMERIA Investment Consulting Company is seekin...</td>\n",
       "      <td>- Supervises financial management and administ...</td>\n",
       "      <td>To perform this job successfully, an\\nindividu...</td>\n",
       "      <td>2004</td>\n",
       "      <td>1</td>\n",
       "      <td>False</td>\n",
       "      <td>840</td>\n",
       "      <td>AMERIA Investment Consulting Company\\nJOB TITL...</td>\n",
       "      <td>...</td>\n",
       "      <td>AMERIA Investment Consulting Company JOB TITLE...</td>\n",
       "      <td>Chief Financial Officer</td>\n",
       "      <td>AMERIA Investment Consulting Company seeking C...</td>\n",
       "      <td>Supervises financial management administrative...</td>\n",
       "      <td>To perform job successfully individual must ab...</td>\n",
       "      <td>ameria investment consulting company job title...</td>\n",
       "      <td>chief financial officer</td>\n",
       "      <td>ameria investment consulting company seeking c...</td>\n",
       "      <td>supervises financial management administrative...</td>\n",
       "      <td>to perform job successfully individual must ab...</td>\n",
       "    </tr>\n",
       "  </tbody>\n",
       "</table>\n",
       "<p>1 rows × 29 columns</p>\n",
       "</div>"
      ],
      "text/plain": [
       "                                             jobpost                    Title  \\\n",
       "0  AMERIA Investment Consulting Company\\nJOB TITL...  Chief Financial Officer   \n",
       "\n",
       "                                      JobDescription  \\\n",
       "0  AMERIA Investment Consulting Company is seekin...   \n",
       "\n",
       "                                       JobRequirment  \\\n",
       "0  - Supervises financial management and administ...   \n",
       "\n",
       "                                        RequiredQual  Year  Month     IT  \\\n",
       "0  To perform this job successfully, an\\nindividu...  2004      1  False   \n",
       "\n",
       "   length                                           jobpost1  ...  \\\n",
       "0     840  AMERIA Investment Consulting Company\\nJOB TITL...  ...   \n",
       "\n",
       "                                            jobpost4                   Title4  \\\n",
       "0  AMERIA Investment Consulting Company JOB TITLE...  Chief Financial Officer   \n",
       "\n",
       "                                     JobDescription4  \\\n",
       "0  AMERIA Investment Consulting Company seeking C...   \n",
       "\n",
       "                                      JobRequirment4  \\\n",
       "0  Supervises financial management administrative...   \n",
       "\n",
       "                                       RequiredQual4  \\\n",
       "0  To perform job successfully individual must ab...   \n",
       "\n",
       "                                            jobpost5                   Title5  \\\n",
       "0  ameria investment consulting company job title...  chief financial officer   \n",
       "\n",
       "                                     JobDescription5  \\\n",
       "0  ameria investment consulting company seeking c...   \n",
       "\n",
       "                                      JobRequirment5  \\\n",
       "0  supervises financial management administrative...   \n",
       "\n",
       "                                       RequiredQual5  \n",
       "0  to perform job successfully individual must ab...  \n",
       "\n",
       "[1 rows x 29 columns]"
      ]
     },
     "execution_count": 30,
     "metadata": {},
     "output_type": "execute_result"
    }
   ],
   "source": [
    "Online_Job.head(1)"
   ]
  },
  {
   "cell_type": "code",
   "execution_count": 31,
   "metadata": {},
   "outputs": [
    {
     "data": {
      "text/plain": [
       "Index(['jobpost', 'Title', 'JobDescription', 'JobRequirment', 'RequiredQual',\n",
       "       'Year', 'Month', 'IT', 'length', 'jobpost1', 'Title1',\n",
       "       'JobDescription1', 'JobRequirment1', 'RequiredQual1', 'jobpost3',\n",
       "       'Title3', 'JobDescription3', 'JobRequirment3', 'RequiredQual3',\n",
       "       'jobpost4', 'Title4', 'JobDescription4', 'JobRequirment4',\n",
       "       'RequiredQual4', 'jobpost5', 'Title5', 'JobDescription5',\n",
       "       'JobRequirment5', 'RequiredQual5'],\n",
       "      dtype='object')"
      ]
     },
     "execution_count": 31,
     "metadata": {},
     "output_type": "execute_result"
    }
   ],
   "source": [
    "Online_Job.columns"
   ]
  },
  {
   "cell_type": "code",
   "execution_count": 32,
   "metadata": {},
   "outputs": [],
   "source": [
    "# Jobpost , Title , Jobrequirement , Jobdescription , RequiredQual , Aboutc , IT , Year"
   ]
  },
  {
   "cell_type": "code",
   "execution_count": 33,
   "metadata": {},
   "outputs": [],
   "source": [
    "Online_job_Token = pd.DataFrame()\n",
    "Online_job_Token = Online_Job[['jobpost5', 'Title5','JobDescription5', 'JobRequirment5', 'RequiredQual5','Year','IT']]"
   ]
  },
  {
   "cell_type": "code",
   "execution_count": 34,
   "metadata": {},
   "outputs": [
    {
     "data": {
      "text/html": [
       "<div>\n",
       "<style scoped>\n",
       "    .dataframe tbody tr th:only-of-type {\n",
       "        vertical-align: middle;\n",
       "    }\n",
       "\n",
       "    .dataframe tbody tr th {\n",
       "        vertical-align: top;\n",
       "    }\n",
       "\n",
       "    .dataframe thead th {\n",
       "        text-align: right;\n",
       "    }\n",
       "</style>\n",
       "<table border=\"1\" class=\"dataframe\">\n",
       "  <thead>\n",
       "    <tr style=\"text-align: right;\">\n",
       "      <th></th>\n",
       "      <th>jobpost5</th>\n",
       "      <th>Title5</th>\n",
       "      <th>JobDescription5</th>\n",
       "      <th>JobRequirment5</th>\n",
       "      <th>RequiredQual5</th>\n",
       "      <th>Year</th>\n",
       "      <th>IT</th>\n",
       "    </tr>\n",
       "  </thead>\n",
       "  <tbody>\n",
       "    <tr>\n",
       "      <th>0</th>\n",
       "      <td>ameria investment consulting company job title...</td>\n",
       "      <td>chief financial officer</td>\n",
       "      <td>ameria investment consulting company seeking c...</td>\n",
       "      <td>supervises financial management administrative...</td>\n",
       "      <td>to perform job successfully individual must ab...</td>\n",
       "      <td>2004</td>\n",
       "      <td>False</td>\n",
       "    </tr>\n",
       "    <tr>\n",
       "      <th>2</th>\n",
       "      <td>caucasus environmental ngo network cenn job ti...</td>\n",
       "      <td>country coordinator</td>\n",
       "      <td>public outreach strengthening growing network ...</td>\n",
       "      <td>working country director provide environmental...</td>\n",
       "      <td>degree environmentally related field years rel...</td>\n",
       "      <td>2004</td>\n",
       "      <td>False</td>\n",
       "    </tr>\n",
       "  </tbody>\n",
       "</table>\n",
       "</div>"
      ],
      "text/plain": [
       "                                            jobpost5                   Title5  \\\n",
       "0  ameria investment consulting company job title...  chief financial officer   \n",
       "2  caucasus environmental ngo network cenn job ti...      country coordinator   \n",
       "\n",
       "                                     JobDescription5  \\\n",
       "0  ameria investment consulting company seeking c...   \n",
       "2  public outreach strengthening growing network ...   \n",
       "\n",
       "                                      JobRequirment5  \\\n",
       "0  supervises financial management administrative...   \n",
       "2  working country director provide environmental...   \n",
       "\n",
       "                                       RequiredQual5  Year     IT  \n",
       "0  to perform job successfully individual must ab...  2004  False  \n",
       "2  degree environmentally related field years rel...  2004  False  "
      ]
     },
     "execution_count": 34,
     "metadata": {},
     "output_type": "execute_result"
    }
   ],
   "source": [
    "Online_job_Token.head(2)"
   ]
  },
  {
   "cell_type": "code",
   "execution_count": 35,
   "metadata": {},
   "outputs": [
    {
     "name": "stdout",
     "output_type": "stream",
     "text": [
      "<class 'pandas.core.frame.DataFrame'>\n",
      "Int64Index: 13042 entries, 0 to 19000\n",
      "Data columns (total 7 columns):\n",
      "jobpost5           13042 non-null object\n",
      "Title5             13042 non-null object\n",
      "JobDescription5    13042 non-null object\n",
      "JobRequirment5     13042 non-null object\n",
      "RequiredQual5      13042 non-null object\n",
      "Year               13042 non-null int64\n",
      "IT                 13042 non-null bool\n",
      "dtypes: bool(1), int64(1), object(5)\n",
      "memory usage: 726.0+ KB\n"
     ]
    }
   ],
   "source": [
    "Online_job_Token.info()"
   ]
  },
  {
   "cell_type": "code",
   "execution_count": 36,
   "metadata": {},
   "outputs": [
    {
     "name": "stderr",
     "output_type": "stream",
     "text": [
      "C:\\Users\\Kunnu\\Anaconda3\\lib\\site-packages\\ipykernel_launcher.py:2: SettingWithCopyWarning: \n",
      "A value is trying to be set on a copy of a slice from a DataFrame.\n",
      "Try using .loc[row_indexer,col_indexer] = value instead\n",
      "\n",
      "See the caveats in the documentation: http://pandas.pydata.org/pandas-docs/stable/indexing.html#indexing-view-versus-copy\n",
      "  \n"
     ]
    }
   ],
   "source": [
    "## Converting IT into numeric form\n",
    "Online_job_Token['IT_new'] = np.where(Online_job_Token['IT']== False, 1, 0)\n"
   ]
  },
  {
   "cell_type": "code",
   "execution_count": 37,
   "metadata": {},
   "outputs": [
    {
     "name": "stderr",
     "output_type": "stream",
     "text": [
      "C:\\Users\\Kunnu\\Anaconda3\\lib\\site-packages\\ipykernel_launcher.py:2: SettingWithCopyWarning: \n",
      "A value is trying to be set on a copy of a slice from a DataFrame.\n",
      "Try using .loc[row_indexer,col_indexer] = value instead\n",
      "\n",
      "See the caveats in the documentation: http://pandas.pydata.org/pandas-docs/stable/indexing.html#indexing-view-versus-copy\n",
      "  \n"
     ]
    }
   ],
   "source": [
    "# Converting Year to String\n",
    "Online_job_Token['Year'] = Online_job_Token.Year.astype(str)"
   ]
  },
  {
   "cell_type": "code",
   "execution_count": 38,
   "metadata": {},
   "outputs": [
    {
     "name": "stdout",
     "output_type": "stream",
     "text": [
      "<class 'pandas.core.frame.DataFrame'>\n",
      "Int64Index: 13042 entries, 0 to 19000\n",
      "Data columns (total 8 columns):\n",
      "jobpost5           13042 non-null object\n",
      "Title5             13042 non-null object\n",
      "JobDescription5    13042 non-null object\n",
      "JobRequirment5     13042 non-null object\n",
      "RequiredQual5      13042 non-null object\n",
      "Year               13042 non-null object\n",
      "IT                 13042 non-null bool\n",
      "IT_new             13042 non-null int32\n",
      "dtypes: bool(1), int32(1), object(6)\n",
      "memory usage: 776.9+ KB\n"
     ]
    }
   ],
   "source": [
    "Online_job_Token.info()"
   ]
  },
  {
   "cell_type": "code",
   "execution_count": 39,
   "metadata": {},
   "outputs": [
    {
     "data": {
      "text/html": [
       "<div>\n",
       "<style scoped>\n",
       "    .dataframe tbody tr th:only-of-type {\n",
       "        vertical-align: middle;\n",
       "    }\n",
       "\n",
       "    .dataframe tbody tr th {\n",
       "        vertical-align: top;\n",
       "    }\n",
       "\n",
       "    .dataframe thead th {\n",
       "        text-align: right;\n",
       "    }\n",
       "</style>\n",
       "<table border=\"1\" class=\"dataframe\">\n",
       "  <thead>\n",
       "    <tr style=\"text-align: right;\">\n",
       "      <th></th>\n",
       "      <th>jobpost5</th>\n",
       "      <th>Title5</th>\n",
       "      <th>JobDescription5</th>\n",
       "      <th>JobRequirment5</th>\n",
       "      <th>RequiredQual5</th>\n",
       "      <th>Year</th>\n",
       "      <th>IT</th>\n",
       "      <th>IT_new</th>\n",
       "    </tr>\n",
       "  </thead>\n",
       "  <tbody>\n",
       "    <tr>\n",
       "      <th>0</th>\n",
       "      <td>ameria investment consulting company job title...</td>\n",
       "      <td>chief financial officer</td>\n",
       "      <td>ameria investment consulting company seeking c...</td>\n",
       "      <td>supervises financial management administrative...</td>\n",
       "      <td>to perform job successfully individual must ab...</td>\n",
       "      <td>2004</td>\n",
       "      <td>False</td>\n",
       "      <td>1</td>\n",
       "    </tr>\n",
       "    <tr>\n",
       "      <th>2</th>\n",
       "      <td>caucasus environmental ngo network cenn job ti...</td>\n",
       "      <td>country coordinator</td>\n",
       "      <td>public outreach strengthening growing network ...</td>\n",
       "      <td>working country director provide environmental...</td>\n",
       "      <td>degree environmentally related field years rel...</td>\n",
       "      <td>2004</td>\n",
       "      <td>False</td>\n",
       "      <td>1</td>\n",
       "    </tr>\n",
       "  </tbody>\n",
       "</table>\n",
       "</div>"
      ],
      "text/plain": [
       "                                            jobpost5                   Title5  \\\n",
       "0  ameria investment consulting company job title...  chief financial officer   \n",
       "2  caucasus environmental ngo network cenn job ti...      country coordinator   \n",
       "\n",
       "                                     JobDescription5  \\\n",
       "0  ameria investment consulting company seeking c...   \n",
       "2  public outreach strengthening growing network ...   \n",
       "\n",
       "                                      JobRequirment5  \\\n",
       "0  supervises financial management administrative...   \n",
       "2  working country director provide environmental...   \n",
       "\n",
       "                                       RequiredQual5  Year     IT  IT_new  \n",
       "0  to perform job successfully individual must ab...  2004  False       1  \n",
       "2  degree environmentally related field years rel...  2004  False       1  "
      ]
     },
     "execution_count": 39,
     "metadata": {},
     "output_type": "execute_result"
    }
   ],
   "source": [
    "Online_job_Token.head(2)"
   ]
  },
  {
   "cell_type": "code",
   "execution_count": 40,
   "metadata": {},
   "outputs": [
    {
     "data": {
      "text/plain": [
       "Index(['jobpost5', 'Title5', 'JobDescription5', 'JobRequirment5',\n",
       "       'RequiredQual5', 'Year', 'IT', 'IT_new'],\n",
       "      dtype='object')"
      ]
     },
     "execution_count": 40,
     "metadata": {},
     "output_type": "execute_result"
    }
   ],
   "source": [
    "Online_job_Token.columns"
   ]
  },
  {
   "cell_type": "code",
   "execution_count": 42,
   "metadata": {},
   "outputs": [
    {
     "name": "stderr",
     "output_type": "stream",
     "text": [
      "C:\\Users\\Kunnu\\Anaconda3\\lib\\site-packages\\ipykernel_launcher.py:3: SettingWithCopyWarning: \n",
      "A value is trying to be set on a copy of a slice from a DataFrame.\n",
      "Try using .loc[row_indexer,col_indexer] = value instead\n",
      "\n",
      "See the caveats in the documentation: http://pandas.pydata.org/pandas-docs/stable/indexing.html#indexing-view-versus-copy\n",
      "  This is separate from the ipykernel package so we can avoid doing imports until\n"
     ]
    }
   ],
   "source": [
    "# Combining all columns into one column -> col_all\n",
    "\n",
    "Online_job_Token[\"col_all\"] = Online_job_Token[\"jobpost5\"].map(str) + \" \" + Online_job_Token[\"Title5\"] + \" \" + Online_job_Token[\"JobDescription5\"] + \" \" + Online_job_Token[\"JobRequirment5\"] + \" \" + Online_job_Token[\"RequiredQual5\"] + \" \" + Online_job_Token[\"Year\"]"
   ]
  },
  {
   "cell_type": "code",
   "execution_count": 43,
   "metadata": {},
   "outputs": [],
   "source": [
    "Online_job_Token.reset_index(drop=True,inplace=True)"
   ]
  },
  {
   "cell_type": "code",
   "execution_count": 44,
   "metadata": {},
   "outputs": [
    {
     "data": {
      "text/html": [
       "<div>\n",
       "<style scoped>\n",
       "    .dataframe tbody tr th:only-of-type {\n",
       "        vertical-align: middle;\n",
       "    }\n",
       "\n",
       "    .dataframe tbody tr th {\n",
       "        vertical-align: top;\n",
       "    }\n",
       "\n",
       "    .dataframe thead th {\n",
       "        text-align: right;\n",
       "    }\n",
       "</style>\n",
       "<table border=\"1\" class=\"dataframe\">\n",
       "  <thead>\n",
       "    <tr style=\"text-align: right;\">\n",
       "      <th></th>\n",
       "      <th>jobpost5</th>\n",
       "      <th>Title5</th>\n",
       "      <th>JobDescription5</th>\n",
       "      <th>JobRequirment5</th>\n",
       "      <th>RequiredQual5</th>\n",
       "      <th>Year</th>\n",
       "      <th>IT</th>\n",
       "      <th>IT_new</th>\n",
       "      <th>col_all</th>\n",
       "    </tr>\n",
       "  </thead>\n",
       "  <tbody>\n",
       "    <tr>\n",
       "      <th>0</th>\n",
       "      <td>ameria investment consulting company job title...</td>\n",
       "      <td>chief financial officer</td>\n",
       "      <td>ameria investment consulting company seeking c...</td>\n",
       "      <td>supervises financial management administrative...</td>\n",
       "      <td>to perform job successfully individual must ab...</td>\n",
       "      <td>2004</td>\n",
       "      <td>False</td>\n",
       "      <td>1</td>\n",
       "      <td>ameria investment consulting company job title...</td>\n",
       "    </tr>\n",
       "    <tr>\n",
       "      <th>1</th>\n",
       "      <td>caucasus environmental ngo network cenn job ti...</td>\n",
       "      <td>country coordinator</td>\n",
       "      <td>public outreach strengthening growing network ...</td>\n",
       "      <td>working country director provide environmental...</td>\n",
       "      <td>degree environmentally related field years rel...</td>\n",
       "      <td>2004</td>\n",
       "      <td>False</td>\n",
       "      <td>1</td>\n",
       "      <td>caucasus environmental ngo network cenn job ti...</td>\n",
       "    </tr>\n",
       "  </tbody>\n",
       "</table>\n",
       "</div>"
      ],
      "text/plain": [
       "                                            jobpost5                   Title5  \\\n",
       "0  ameria investment consulting company job title...  chief financial officer   \n",
       "1  caucasus environmental ngo network cenn job ti...      country coordinator   \n",
       "\n",
       "                                     JobDescription5  \\\n",
       "0  ameria investment consulting company seeking c...   \n",
       "1  public outreach strengthening growing network ...   \n",
       "\n",
       "                                      JobRequirment5  \\\n",
       "0  supervises financial management administrative...   \n",
       "1  working country director provide environmental...   \n",
       "\n",
       "                                       RequiredQual5  Year     IT  IT_new  \\\n",
       "0  to perform job successfully individual must ab...  2004  False       1   \n",
       "1  degree environmentally related field years rel...  2004  False       1   \n",
       "\n",
       "                                             col_all  \n",
       "0  ameria investment consulting company job title...  \n",
       "1  caucasus environmental ngo network cenn job ti...  "
      ]
     },
     "execution_count": 44,
     "metadata": {},
     "output_type": "execute_result"
    }
   ],
   "source": [
    "Online_job_Token.head(2)"
   ]
  },
  {
   "cell_type": "code",
   "execution_count": 45,
   "metadata": {},
   "outputs": [
    {
     "data": {
      "text/plain": [
       "0    ameria investment consulting company job title...\n",
       "1    caucasus environmental ngo network cenn job ti...\n",
       "Name: col_all, dtype: object"
      ]
     },
     "execution_count": 45,
     "metadata": {},
     "output_type": "execute_result"
    }
   ],
   "source": [
    "Online_job_Token.col_all.head(2)"
   ]
  },
  {
   "cell_type": "code",
   "execution_count": 46,
   "metadata": {},
   "outputs": [],
   "source": [
    "# define X and y\n",
    "X = Online_job_Token.col_all\n",
    "y = Online_job_Token.IT_new\n",
    "\n",
    "# split the new DataFrame into training and testing sets\n",
    "X_train, X_test, y_train, y_test = train_test_split(X, y, random_state=1)"
   ]
  },
  {
   "cell_type": "code",
   "execution_count": 47,
   "metadata": {},
   "outputs": [
    {
     "data": {
      "text/plain": [
       "pandas.core.series.Series"
      ]
     },
     "execution_count": 47,
     "metadata": {},
     "output_type": "execute_result"
    }
   ],
   "source": [
    "type(X)"
   ]
  },
  {
   "cell_type": "markdown",
   "metadata": {},
   "source": [
    "## Lematization "
   ]
  },
  {
   "cell_type": "code",
   "execution_count": 49,
   "metadata": {},
   "outputs": [
    {
     "name": "stderr",
     "output_type": "stream",
     "text": [
      "C:\\Users\\Kunnu\\Anaconda3\\lib\\site-packages\\ipykernel_launcher.py:2: SettingWithCopyWarning: \n",
      "A value is trying to be set on a copy of a slice from a DataFrame.\n",
      "Try using .loc[row_indexer,col_indexer] = value instead\n",
      "\n",
      "See the caveats in the documentation: http://pandas.pydata.org/pandas-docs/stable/indexing.html#indexing-view-versus-copy\n",
      "  \n"
     ]
    },
    {
     "data": {
      "text/plain": [
       "0    ameria investment consulting company job title...\n",
       "1    caucasus environmental ngo network cenn job ti...\n",
       "2    manoff group job title bcc specialist position...\n",
       "3    food security regional cooperation stability p...\n",
       "4    united nation development programme armenia jo...\n",
       "Name: col_all, dtype: object"
      ]
     },
     "execution_count": 49,
     "metadata": {},
     "output_type": "execute_result"
    }
   ],
   "source": [
    "from textblob import Word\n",
    "Online_job_Token['col_all'] = Online_job_Token['col_all'].apply(lambda x: \" \".join([Word(word).lemmatize() for word in x.split()]))\n",
    "Online_job_Token['col_all'].head()"
   ]
  },
  {
   "cell_type": "markdown",
   "metadata": {},
   "source": [
    "## Stop Words Removal"
   ]
  },
  {
   "cell_type": "code",
   "execution_count": 50,
   "metadata": {},
   "outputs": [],
   "source": [
    "from nltk.corpus import stopwords\n",
    "stop = stopwords.words('english')"
   ]
  },
  {
   "cell_type": "code",
   "execution_count": 51,
   "metadata": {},
   "outputs": [],
   "source": [
    "stop.extend(('knowledge',\n",
    "'experience',\n",
    "'job',\n",
    "'skills',\n",
    "'work',\n",
    "'applicaton',\n",
    "'ability',\n",
    "'armenia',\n",
    "'please',\n",
    "'website',\n",
    "'mention',\n",
    "'the',\n",
    "'english',\n",
    "'wwwcareercenteram',\n",
    "'company',\n",
    "'team',\n",
    "'excellent',\n",
    "'good',\n",
    "'armenian',\n",
    "'required',\n",
    "'organization',\n",
    "'date',\n",
    "'to',\n",
    "'responsible',\n",
    "'office',\n",
    "'years',\n",
    "'communication',\n",
    "'yeveran',\n",
    "'time',\n",
    "'ensure',\n",
    "'provide',\n",
    "'letter',\n",
    "'develop',\n",
    "'related',\n",
    "'activities',\n",
    "'center',\n",
    "'languages',\n",
    "'responsibilites',\n",
    "'degree',\n",
    "'candidates',\n",
    "'title'))"
   ]
  },
  {
   "cell_type": "code",
   "execution_count": 52,
   "metadata": {},
   "outputs": [
    {
     "name": "stderr",
     "output_type": "stream",
     "text": [
      "C:\\Users\\Kunnu\\Anaconda3\\lib\\site-packages\\ipykernel_launcher.py:1: SettingWithCopyWarning: \n",
      "A value is trying to be set on a copy of a slice from a DataFrame.\n",
      "Try using .loc[row_indexer,col_indexer] = value instead\n",
      "\n",
      "See the caveats in the documentation: http://pandas.pydata.org/pandas-docs/stable/indexing.html#indexing-view-versus-copy\n",
      "  \"\"\"Entry point for launching an IPython kernel.\n"
     ]
    },
    {
     "data": {
      "text/plain": [
       "0    ameria investment consulting chief financial o...\n",
       "Name: col_all, dtype: object"
      ]
     },
     "execution_count": 52,
     "metadata": {},
     "output_type": "execute_result"
    }
   ],
   "source": [
    "Online_job_Token['col_all'] = Online_job_Token['col_all'].apply(lambda x: \" \".join(x for x in x.split() if x not in stop))\n",
    "Online_job_Token['col_all'].head(1)"
   ]
  },
  {
   "cell_type": "code",
   "execution_count": 53,
   "metadata": {},
   "outputs": [],
   "source": [
    "# define X and y\n",
    "X = Online_job_Token.col_all\n",
    "y = Online_job_Token.IT_new\n",
    "\n",
    "# split the new DataFrame into training and testing sets\n",
    "X_train, X_test, y_train, y_test = train_test_split(X, y, random_state=1)"
   ]
  },
  {
   "cell_type": "markdown",
   "metadata": {},
   "source": [
    "### Tokenization "
   ]
  },
  {
   "cell_type": "code",
   "execution_count": 54,
   "metadata": {},
   "outputs": [],
   "source": [
    "# use CountVectorizer to create document-term matrices from X_train and X_test\n",
    "vect = CountVectorizer()"
   ]
  },
  {
   "cell_type": "code",
   "execution_count": 55,
   "metadata": {},
   "outputs": [],
   "source": [
    "X_train_dtm = vect.fit_transform(X_train)\n",
    "X_test_dtm = vect.transform(X_test)"
   ]
  },
  {
   "cell_type": "code",
   "execution_count": 56,
   "metadata": {},
   "outputs": [
    {
     "data": {
      "text/plain": [
       "(9781, 23915)"
      ]
     },
     "execution_count": 56,
     "metadata": {},
     "output_type": "execute_result"
    }
   ],
   "source": [
    "X_train_dtm.shape"
   ]
  },
  {
   "cell_type": "code",
   "execution_count": 57,
   "metadata": {},
   "outputs": [
    {
     "data": {
      "text/plain": [
       "(3261, 23915)"
      ]
     },
     "execution_count": 57,
     "metadata": {},
     "output_type": "execute_result"
    }
   ],
   "source": [
    "X_test_dtm.shape"
   ]
  },
  {
   "cell_type": "code",
   "execution_count": 58,
   "metadata": {},
   "outputs": [
    {
     "name": "stdout",
     "output_type": "stream",
     "text": [
      "['zega', 'zeitun', 'zejtun', 'zend', 'zendesk', 'zendframework', 'zendyii', 'zenni', 'zeno', 'zenta', 'zenteq', 'zentex', 'zentexam', 'zeppeilin', 'zeppelin', 'zepto', 'zepzepyur', 'zero', 'zerobalance', 'zerobased', 'zflyers', 'zhanna', 'zhannayeghiazaryan', 'zhiguly', 'zhirayr', 'zhoravor', 'zigbeelike', 'zigzag', 'zillion', 'zip', 'zipped', 'zipzip', 'zminimum', 'zn', 'zod', 'zohrabian', 'zonal', 'zone', 'zoning', 'zoo', 'zoology', 'zoom', 'zooplankton', 'zoravar', 'zrhovhannisyan', 'zte', 'ztes', 'zugdidi', 'zusammenarbeit', 'zvartnots']\n"
     ]
    }
   ],
   "source": [
    "# last 50 features\n",
    "print(vect.get_feature_names()[-50:])"
   ]
  },
  {
   "cell_type": "code",
   "execution_count": 59,
   "metadata": {},
   "outputs": [],
   "source": [
    "pd.set_option('display.max_colwidth', -1)"
   ]
  },
  {
   "cell_type": "code",
   "execution_count": 60,
   "metadata": {},
   "outputs": [
    {
     "data": {
      "text/plain": [
       "0    ameria investment consulting chief financial officer position location yerevan description ameria investment consulting seeking chief financial officer position manages fiscal administrative function provides highly technically complex staff assistance executive director performed requires high level technical proficiency financial management investment management well management supervisory administrative skill responsibility supervises financial management administrative staff including assigning responsibility reviewing employee process product counseling employee giving performance evaluation recommending disciplinary action serf member management participating strategic operational planning directs oversees financial management activity including establishing monitoring internal control managing cash investment managing investment portfolio collaboration investment leader includes limited evaluation investment risk concentration risk fund deployment level adequacy loss liquidity reserve assist investment development proper documentation internal system directs oversees annual budgeting process including developing projection financial planning preparing budget prepares external internal financial management report audited financial statement tax return report board director staff develops implement maintains efficient effective accounting system control compliance national international accounting standard principle sufficiency fund accounting comprehensiveness data reporting compliance requirement ensures contract compliance including interpreting monitoring contract client submitting report monitoring covenant contract term oversees design implementation maintenance computerbased information system oversees record retention manual computerbased file maintenance activity serf risk manager including evaluating loss exposure obtaining insurance appropriate manages administrative operation facility management payroll administration operation administrative support monitor corporate compliance bylaw article incorporation regarding corporate registration reporting fundraising operation qualification perform successfully individual must able perform essential duty satisfactorily requirement listed representative skill andor generally accepted accounting principle local accounting standard legislation state reporting requirement pertaining accounting principle practice financial management budgeting principle practice financial system design analysis principle practice contract management record management risk management principle practice management supervision principle practice information system management apply sound fiscal administrative practice activity plan organize supervise subordinate employee including training assigning evaluating providing performance feedback critically analyze fiscal administrative policy practice procedure system recommend implement change needed gather synthesize financial information variety source present variety audience differing financial management analysis expertise prepare detailed comprehensive financial report including explanatory text operate ibmcompatible personal computer including word processing spreadsheet database software application operate specialized software application support financial management budgeting function qualification minimum year accounting corporate finance banking including role cfo finance accounting technical skill coupled demonstrated key financial function consulting context accounting finance control treasury reserving reporting strong financial planning analytical skill closely support ceo executive strategic development implementation leadership management supervisory track record attracting selecting developing rewarding retaining highcaliber accounting finance executive achieve business goal undergraduate finance business discipline cpa cfa acca financial certification highly preferred master business administration accounting finance fluency russian outstanding writing skill analytical teamwork interpersonal skill need well organized detailoriented well goal result driven able deal complex issue application procedure apply position submit cover resume addressing relevant qualification information professional reference strictly tatevik hovhannisyan executive assistant fax emailameria tel shortlisted candidate notified interview clearly application learned opportunity career url thanks application deadline january place free posting career opportunity careercenteram email u atmailbox chief financial officer ameria investment consulting seeking chief financial officer position manages fiscal administrative function provides highly technically complex staff assistance executive director performed requires high level technical proficiency financial management investment management well management supervisory administrative skill supervises financial management administrative staff including assigning responsibility reviewing employee process product counseling employee giving performance evaluation recommending disciplinary action serf member management participating strategic operational planning directs oversees financial management activity including establishing monitoring internal control managing cash investment managing investment portfolio collaboration investment leader includes limited evaluation investment risk concentration risk fund deployment level adequacy loss liquidity reserve assist investment development proper documentation internal system directs oversees annual budgeting process including developing projection financial planning preparing budget prepares external internal financial management report audited financial statement tax return report board director staff develops implement maintains efficient effective accounting system control compliance national international accounting standard principle sufficiency fund accounting comprehensiveness data reporting compliance requirement ensures contract compliance including interpreting monitoring contract client submitting report monitoring covenant contract term oversees design implementation maintenance computerbased information system oversees record retention manual computerbased file maintenance activity serf risk manager including evaluating loss exposure obtaining insurance appropriate manages administrative operation facility management payroll administration operation administrative support monitor corporate compliance bylaw article incorporation regarding corporate registration reporting fundraising operation perform successfully individual must able perform essential duty satisfactorily requirement listed representative skill andor generally accepted accounting principle local accounting standard legislation state reporting requirement pertaining accounting principle practice financial management budgeting principle practice financial system design analysis principle practice contract management record management risk management principle practice management supervision principle practice information system management apply sound fiscal administrative practice activity plan organize supervise subordinate employee including training assigning evaluating providing performance feedback critically analyze fiscal administrative policy practice procedure system recommend implement change needed gather synthesize financial information variety source present variety audience differing financial management analysis expertise prepare detailed comprehensive financial report including explanatory text operate ibmcompatible personal computer including word processing spreadsheet database software application operate specialized software application support financial management budgeting function qualification minimum year accounting corporate finance banking including role cfo finance accounting technical skill coupled demonstrated key financial function consulting context accounting finance control treasury reserving reporting strong financial planning analytical skill closely support ceo executive strategic development implementation leadership management supervisory track record attracting selecting developing rewarding retaining highcaliber accounting finance executive achieve business goal undergraduate finance business discipline cpa cfa acca financial certification highly preferred master business administration accounting finance fluency russian outstanding writing skill analytical teamwork interpersonal skill need well organized detailoriented well goal result driven able deal complex issue 2004\n",
       "Name: col_all, dtype: object"
      ]
     },
     "execution_count": 60,
     "metadata": {},
     "output_type": "execute_result"
    }
   ],
   "source": [
    "Online_job_Token.col_all.head(1)"
   ]
  },
  {
   "cell_type": "code",
   "execution_count": 61,
   "metadata": {},
   "outputs": [
    {
     "data": {
      "text/plain": [
       "CountVectorizer(analyzer='word', binary=False, decode_error='strict',\n",
       "                dtype=<class 'numpy.int64'>, encoding='utf-8', input='content',\n",
       "                lowercase=True, max_df=1.0, max_features=None, min_df=1,\n",
       "                ngram_range=(1, 1), preprocessor=None, stop_words=None,\n",
       "                strip_accents=None, token_pattern='(?u)\\\\b\\\\w\\\\w+\\\\b',\n",
       "                tokenizer=None, vocabulary=None)"
      ]
     },
     "execution_count": 61,
     "metadata": {},
     "output_type": "execute_result"
    }
   ],
   "source": [
    "vect"
   ]
  },
  {
   "cell_type": "markdown",
   "metadata": {},
   "source": [
    "### Defining Functiom"
   ]
  },
  {
   "cell_type": "code",
   "execution_count": 62,
   "metadata": {},
   "outputs": [],
   "source": [
    "def tokenize_test(vect):\n",
    "    X_train_dtm = vect.fit_transform(X_train)\n",
    "    print('Features Train: ', X_train_dtm.shape[1])\n",
    "    X_test_dtm = vect.transform(X_test)\n",
    "    print('Features Test: ', X_test_dtm.shape[1])\n",
    "# define a function that accepts a vectorizer and calculates the accuracy\n",
    "def tokenize_test1(vect):\n",
    "    X_train_dtm = vect.fit_transform(X_train)\n",
    "    print('Features: ', X_train_dtm.shape[1])\n",
    "    X_test_dtm = vect.transform(X_test)\n",
    "    nb = MultinomialNB()\n",
    "    nb.fit(X_train_dtm, y_train)\n",
    "    print('Train Accuracy: ', metrics.accuracy_score(y_train, nb.predict(X_train_dtm)))\n",
    "    y_pred_class = nb.predict(X_test_dtm)\n",
    "    print('Test Accuracy: ', metrics.accuracy_score(y_test, y_pred_class))"
   ]
  },
  {
   "cell_type": "code",
   "execution_count": 63,
   "metadata": {},
   "outputs": [],
   "source": [
    "# include 1-grams and 2-grams\n",
    "vect = CountVectorizer(ngram_range=(2,3), min_df=5)"
   ]
  },
  {
   "cell_type": "code",
   "execution_count": 64,
   "metadata": {},
   "outputs": [
    {
     "name": "stdout",
     "output_type": "stream",
     "text": [
      "Features:  123194\n",
      "Train Accuracy:  0.9321132808506287\n",
      "Test Accuracy:  0.922723091076357\n"
     ]
    }
   ],
   "source": [
    "# Predicting Whether Job is IT or NOn IT\n",
    "tokenize_test1(vect)"
   ]
  },
  {
   "cell_type": "code",
   "execution_count": 65,
   "metadata": {},
   "outputs": [
    {
     "data": {
      "text/plain": [
       "Index(['jobpost5', 'Title5', 'JobDescription5', 'JobRequirment5',\n",
       "       'RequiredQual5', 'Year', 'IT', 'IT_new', 'col_all'],\n",
       "      dtype='object')"
      ]
     },
     "execution_count": 65,
     "metadata": {},
     "output_type": "execute_result"
    }
   ],
   "source": [
    "Online_job_Token.columns"
   ]
  },
  {
   "cell_type": "markdown",
   "metadata": {},
   "source": [
    "### Decision Tree"
   ]
  },
  {
   "cell_type": "code",
   "execution_count": 68,
   "metadata": {},
   "outputs": [],
   "source": [
    "from sklearn import metrics\n",
    "from sklearn.tree import DecisionTreeClassifier, export_graphviz, export\n",
    "from sklearn.model_selection import GridSearchCV"
   ]
  },
  {
   "cell_type": "code",
   "execution_count": 69,
   "metadata": {},
   "outputs": [],
   "source": [
    "clf_tree = DecisionTreeClassifier( max_depth = 3 )\n",
    "clf_tree=clf_tree.fit( X_train_dtm, y_train )"
   ]
  },
  {
   "cell_type": "code",
   "execution_count": 70,
   "metadata": {},
   "outputs": [
    {
     "data": {
      "text/html": [
       "<div>\n",
       "<style scoped>\n",
       "    .dataframe tbody tr th:only-of-type {\n",
       "        vertical-align: middle;\n",
       "    }\n",
       "\n",
       "    .dataframe tbody tr th {\n",
       "        vertical-align: top;\n",
       "    }\n",
       "\n",
       "    .dataframe thead th {\n",
       "        text-align: right;\n",
       "    }\n",
       "</style>\n",
       "<table border=\"1\" class=\"dataframe\">\n",
       "  <thead>\n",
       "    <tr style=\"text-align: right;\">\n",
       "      <th></th>\n",
       "      <th>0</th>\n",
       "      <th>1</th>\n",
       "    </tr>\n",
       "  </thead>\n",
       "  <tbody>\n",
       "    <tr>\n",
       "      <th>0</th>\n",
       "      <td>0.052441</td>\n",
       "      <td>0.947559</td>\n",
       "    </tr>\n",
       "    <tr>\n",
       "      <th>1</th>\n",
       "      <td>0.052441</td>\n",
       "      <td>0.947559</td>\n",
       "    </tr>\n",
       "    <tr>\n",
       "      <th>2</th>\n",
       "      <td>0.052441</td>\n",
       "      <td>0.947559</td>\n",
       "    </tr>\n",
       "    <tr>\n",
       "      <th>3</th>\n",
       "      <td>0.052441</td>\n",
       "      <td>0.947559</td>\n",
       "    </tr>\n",
       "    <tr>\n",
       "      <th>4</th>\n",
       "      <td>0.940343</td>\n",
       "      <td>0.059657</td>\n",
       "    </tr>\n",
       "  </tbody>\n",
       "</table>\n",
       "</div>"
      ],
      "text/plain": [
       "          0         1\n",
       "0  0.052441  0.947559\n",
       "1  0.052441  0.947559\n",
       "2  0.052441  0.947559\n",
       "3  0.052441  0.947559\n",
       "4  0.940343  0.059657"
      ]
     },
     "execution_count": 70,
     "metadata": {},
     "output_type": "execute_result"
    }
   ],
   "source": [
    "pd.DataFrame(clf_tree.predict_proba(X_train_dtm)).head()"
   ]
  },
  {
   "cell_type": "code",
   "execution_count": 71,
   "metadata": {},
   "outputs": [],
   "source": [
    "tree_train_pred = pd.DataFrame( { 'actual':  y_train,\n",
    "                            'predicted': clf_tree.predict( X_train_dtm ) } )\n",
    "tree_test_pred = pd.DataFrame( { 'actual':  y_test,\n",
    "                            'predicted': clf_tree.predict( X_test_dtm ) } )\n"
   ]
  },
  {
   "cell_type": "code",
   "execution_count": 72,
   "metadata": {},
   "outputs": [
    {
     "data": {
      "text/html": [
       "<div>\n",
       "<style scoped>\n",
       "    .dataframe tbody tr th:only-of-type {\n",
       "        vertical-align: middle;\n",
       "    }\n",
       "\n",
       "    .dataframe tbody tr th {\n",
       "        vertical-align: top;\n",
       "    }\n",
       "\n",
       "    .dataframe thead th {\n",
       "        text-align: right;\n",
       "    }\n",
       "</style>\n",
       "<table border=\"1\" class=\"dataframe\">\n",
       "  <thead>\n",
       "    <tr style=\"text-align: right;\">\n",
       "      <th></th>\n",
       "      <th>actual</th>\n",
       "      <th>predicted</th>\n",
       "    </tr>\n",
       "  </thead>\n",
       "  <tbody>\n",
       "    <tr>\n",
       "      <th>4592</th>\n",
       "      <td>1</td>\n",
       "      <td>1</td>\n",
       "    </tr>\n",
       "    <tr>\n",
       "      <th>6372</th>\n",
       "      <td>1</td>\n",
       "      <td>1</td>\n",
       "    </tr>\n",
       "    <tr>\n",
       "      <th>12007</th>\n",
       "      <td>1</td>\n",
       "      <td>1</td>\n",
       "    </tr>\n",
       "    <tr>\n",
       "      <th>2698</th>\n",
       "      <td>1</td>\n",
       "      <td>1</td>\n",
       "    </tr>\n",
       "    <tr>\n",
       "      <th>12290</th>\n",
       "      <td>0</td>\n",
       "      <td>0</td>\n",
       "    </tr>\n",
       "    <tr>\n",
       "      <th>11848</th>\n",
       "      <td>1</td>\n",
       "      <td>1</td>\n",
       "    </tr>\n",
       "    <tr>\n",
       "      <th>7767</th>\n",
       "      <td>1</td>\n",
       "      <td>1</td>\n",
       "    </tr>\n",
       "    <tr>\n",
       "      <th>4580</th>\n",
       "      <td>1</td>\n",
       "      <td>1</td>\n",
       "    </tr>\n",
       "    <tr>\n",
       "      <th>11585</th>\n",
       "      <td>0</td>\n",
       "      <td>1</td>\n",
       "    </tr>\n",
       "    <tr>\n",
       "      <th>7403</th>\n",
       "      <td>1</td>\n",
       "      <td>1</td>\n",
       "    </tr>\n",
       "  </tbody>\n",
       "</table>\n",
       "</div>"
      ],
      "text/plain": [
       "       actual  predicted\n",
       "4592   1       1        \n",
       "6372   1       1        \n",
       "12007  1       1        \n",
       "2698   1       1        \n",
       "12290  0       0        \n",
       "11848  1       1        \n",
       "7767   1       1        \n",
       "4580   1       1        \n",
       "11585  0       1        \n",
       "7403   1       1        "
      ]
     },
     "execution_count": 72,
     "metadata": {},
     "output_type": "execute_result"
    }
   ],
   "source": [
    "tree_train_pred.head(10)"
   ]
  },
  {
   "cell_type": "code",
   "execution_count": 73,
   "metadata": {},
   "outputs": [
    {
     "data": {
      "text/plain": [
       "0.9308864124322667"
      ]
     },
     "execution_count": 73,
     "metadata": {},
     "output_type": "execute_result"
    }
   ],
   "source": [
    "metrics.accuracy_score( tree_train_pred.actual, tree_train_pred.predicted )"
   ]
  },
  {
   "cell_type": "code",
   "execution_count": 74,
   "metadata": {},
   "outputs": [
    {
     "data": {
      "text/plain": [
       "0.9291628334866605"
      ]
     },
     "execution_count": 74,
     "metadata": {},
     "output_type": "execute_result"
    }
   ],
   "source": [
    "metrics.accuracy_score( tree_test_pred.actual, tree_test_pred.predicted )"
   ]
  },
  {
   "cell_type": "code",
   "execution_count": 76,
   "metadata": {},
   "outputs": [
    {
     "data": {
      "text/plain": [
       "Text(0.5, 15.0, 'Predicted label')"
      ]
     },
     "execution_count": 76,
     "metadata": {},
     "output_type": "execute_result"
    },
    {
     "data": {
      "image/png": "[encoded data removed]",
      "text/plain": [
       "<Figure size 432x288 with 2 Axes>"
      ]
     },
     "metadata": {
      "needs_background": "light"
     },
     "output_type": "display_data"
    }
   ],
   "source": [
    "import seaborn as sns\n",
    "tree_cm = metrics.confusion_matrix( tree_test_pred.predicted,\n",
    "                                 tree_test_pred.actual,\n",
    "                                 [1,0] )\n",
    "sn.heatmap(tree_cm, annot=True,\n",
    "         fmt='.2f',\n",
    "         xticklabels = [\"NON IT\", \"IT\"] , yticklabels = [\"NON IT\", \"IT\"] )\n",
    "\n",
    "plt.ylabel('True label')\n",
    "plt.xlabel('Predicted label')"
   ]
  },
  {
   "cell_type": "code",
   "execution_count": 77,
   "metadata": {},
   "outputs": [],
   "source": [
    "#How good the model is?\n",
    "predict_proba_df = pd.DataFrame( clf_tree.predict_proba( X_train_dtm ) )"
   ]
  },
  {
   "cell_type": "code",
   "execution_count": 78,
   "metadata": {},
   "outputs": [],
   "source": [
    "predict_proba_df.columns= ['IT', 'NON_IT']"
   ]
  },
  {
   "cell_type": "code",
   "execution_count": 79,
   "metadata": {},
   "outputs": [
    {
     "data": {
      "text/html": [
       "<div>\n",
       "<style scoped>\n",
       "    .dataframe tbody tr th:only-of-type {\n",
       "        vertical-align: middle;\n",
       "    }\n",
       "\n",
       "    .dataframe tbody tr th {\n",
       "        vertical-align: top;\n",
       "    }\n",
       "\n",
       "    .dataframe thead th {\n",
       "        text-align: right;\n",
       "    }\n",
       "</style>\n",
       "<table border=\"1\" class=\"dataframe\">\n",
       "  <thead>\n",
       "    <tr style=\"text-align: right;\">\n",
       "      <th></th>\n",
       "      <th>IT</th>\n",
       "      <th>NON_IT</th>\n",
       "    </tr>\n",
       "  </thead>\n",
       "  <tbody>\n",
       "    <tr>\n",
       "      <th>0</th>\n",
       "      <td>0.052441</td>\n",
       "      <td>0.947559</td>\n",
       "    </tr>\n",
       "    <tr>\n",
       "      <th>1</th>\n",
       "      <td>0.052441</td>\n",
       "      <td>0.947559</td>\n",
       "    </tr>\n",
       "    <tr>\n",
       "      <th>2</th>\n",
       "      <td>0.052441</td>\n",
       "      <td>0.947559</td>\n",
       "    </tr>\n",
       "    <tr>\n",
       "      <th>3</th>\n",
       "      <td>0.052441</td>\n",
       "      <td>0.947559</td>\n",
       "    </tr>\n",
       "    <tr>\n",
       "      <th>4</th>\n",
       "      <td>0.940343</td>\n",
       "      <td>0.059657</td>\n",
       "    </tr>\n",
       "  </tbody>\n",
       "</table>\n",
       "</div>"
      ],
      "text/plain": [
       "         IT    NON_IT\n",
       "0  0.052441  0.947559\n",
       "1  0.052441  0.947559\n",
       "2  0.052441  0.947559\n",
       "3  0.052441  0.947559\n",
       "4  0.940343  0.059657"
      ]
     },
     "execution_count": 79,
     "metadata": {},
     "output_type": "execute_result"
    }
   ],
   "source": [
    "predict_proba_df.head()"
   ]
  },
  {
   "cell_type": "code",
   "execution_count": 80,
   "metadata": {},
   "outputs": [
    {
     "data": {
      "text/plain": [
       "0.8905310404499244"
      ]
     },
     "execution_count": 80,
     "metadata": {},
     "output_type": "execute_result"
    }
   ],
   "source": [
    "metrics.roc_auc_score(y_train,predict_proba_df.NON_IT )"
   ]
  },
  {
   "cell_type": "code",
   "execution_count": 81,
   "metadata": {},
   "outputs": [
    {
     "data": {
      "text/plain": [
       "0.89"
      ]
     },
     "execution_count": 81,
     "metadata": {},
     "output_type": "execute_result"
    }
   ],
   "source": [
    "auc_score = metrics.roc_auc_score( y_train, predict_proba_df.NON_IT  )\n",
    "round( float( auc_score ), 2 )"
   ]
  },
  {
   "cell_type": "code",
   "execution_count": 82,
   "metadata": {},
   "outputs": [
    {
     "data": {
      "image/png": "[encoded data removed]",
      "text/plain": [
       "<Figure size 432x288 with 1 Axes>"
      ]
     },
     "metadata": {
      "needs_background": "light"
     },
     "output_type": "display_data"
    }
   ],
   "source": [
    "# Finding the optimal cutoff probability\n",
    "fpr, tpr, thresholds = metrics.roc_curve( y_train,\n",
    "                                     predict_proba_df.NON_IT,\n",
    "                                     drop_intermediate = False )\n",
    "\n",
    "plt.figure(figsize=(6, 4))\n",
    "plt.plot( fpr, tpr, label='ROC curve (area = %0.2f)' % auc_score )\n",
    "plt.plot([0, 1], [0, 1], 'k--')\n",
    "plt.xlim([0.0, 1.0])\n",
    "plt.ylim([0.0, 1.05])\n",
    "plt.xlabel('False Positive Rate or [1 - True Negative Rate]')\n",
    "plt.ylabel('True Positive Rate')\n",
    "plt.title('Receiver operating characteristic example')\n",
    "plt.legend(loc=\"lower right\")\n",
    "plt.show()"
   ]
  },
  {
   "cell_type": "code",
   "execution_count": 83,
   "metadata": {},
   "outputs": [
    {
     "name": "stdout",
     "output_type": "stream",
     "text": [
      "The Gini Index for the model built on the Train Data is :  0.7299755307403673\n",
      "The Gini Index for the model built on the Test Data is :  0.7295500031925595\n"
     ]
    }
   ],
   "source": [
    "train_gini = 2*metrics.roc_auc_score(y_train, clf_tree.predict(X_train_dtm)) - 1\n",
    "print(\"The Gini Index for the model built on the Train Data is : \", train_gini)\n",
    "\n",
    "test_gini = 2*metrics.roc_auc_score(y_test, clf_tree.predict(X_test_dtm)) - 1\n",
    "\n",
    "print(\"The Gini Index for the model built on the Test Data is : \", test_gini)"
   ]
  },
  {
   "cell_type": "code",
   "execution_count": 84,
   "metadata": {},
   "outputs": [
    {
     "name": "stdout",
     "output_type": "stream",
     "text": [
      "The AUC for the model built on the Train Data is :  0.8649877653701836\n",
      "The AUC for the model built on the Test Data is :  0.8647750015962797\n"
     ]
    }
   ],
   "source": [
    "train_auc = metrics.roc_auc_score(y_train, clf_tree.predict(X_train_dtm))\n",
    "test_auc = metrics.roc_auc_score(y_test, clf_tree.predict(X_test_dtm))\n",
    "\n",
    "print(\"The AUC for the model built on the Train Data is : \", train_auc)\n",
    "print(\"The AUC for the model built on the Test Data is : \", test_auc)\n",
    "                                 "
   ]
  },
  {
   "cell_type": "code",
   "execution_count": 85,
   "metadata": {},
   "outputs": [],
   "source": [
    "X_train_tokens = vect.get_feature_names()"
   ]
  },
  {
   "cell_type": "code",
   "execution_count": 86,
   "metadata": {},
   "outputs": [
    {
     "data": {
      "text/plain": [
       "['aaa france',\n",
       " 'aaa france foundation',\n",
       " 'aarhus convention',\n",
       " 'abandoned child',\n",
       " 'abandoned child childrens',\n",
       " 'abandoned child race',\n",
       " 'abekchya clearly',\n",
       " 'abekchya clearly application',\n",
       " 'able across',\n",
       " 'able across boundary',\n",
       " 'able autonomously',\n",
       " 'able compare',\n",
       " 'able compare advise',\n",
       " 'able demonstrate',\n",
       " 'able handle',\n",
       " 'able independently',\n",
       " 'able instrucitons',\n",
       " 'able instrucitons preferred',\n",
       " 'able limited',\n",
       " 'able limited supervision',\n",
       " 'able maintain',\n",
       " 'able manage',\n",
       " 'able meet',\n",
       " 'able member',\n",
       " 'able member independently',\n",
       " 'able move',\n",
       " 'able move quickly',\n",
       " 'able obtain',\n",
       " 'able perform',\n",
       " 'able pressure',\n",
       " 'able pressure personal',\n",
       " 'able respond',\n",
       " 'able respond applicant',\n",
       " 'able respond changing',\n",
       " 'able travel',\n",
       " 'able westernstyle',\n",
       " 'able westernstyle environment',\n",
       " 'abovelisted requirement',\n",
       " 'abovelisted requirement confident',\n",
       " 'abovelisted requirement send',\n",
       " 'abovementioned document',\n",
       " 'abovementioned document submitted',\n",
       " 'abovementioned field',\n",
       " 'abovementioned field working',\n",
       " 'abovementioned project',\n",
       " 'abovementioned requirement',\n",
       " 'abovementioned requirement phone',\n",
       " 'abovyan description',\n",
       " 'abovyan description incumbent',\n",
       " 'abovyan near',\n",
       " 'abovyan str',\n",
       " 'abreast improvement',\n",
       " 'abreast market',\n",
       " 'abreast market trend',\n",
       " 'abreast new',\n",
       " 'abreast new policy',\n",
       " 'abroad 2005',\n",
       " 'abroad 2010',\n",
       " 'abroad 2011',\n",
       " 'abroad 2012',\n",
       " 'abroad 2013',\n",
       " 'abroad application',\n",
       " 'abroad application procedure',\n",
       " 'abroad attachment',\n",
       " 'abroad attachment following',\n",
       " 'abroad clearly',\n",
       " 'abroad clearly communicate',\n",
       " 'abroad fluency',\n",
       " 'abroad fluency oral',\n",
       " 'abroad place',\n",
       " 'abroad place free',\n",
       " 'abroad plus',\n",
       " 'abroad qualification',\n",
       " 'abroad qualification university',\n",
       " 'abroad remuneration',\n",
       " 'abroad remuneration salary',\n",
       " 'abroad responsibility',\n",
       " 'abroad university',\n",
       " 'abroad university telecommunication',\n",
       " 'absence assist',\n",
       " 'absence assist language',\n",
       " 'absence implement',\n",
       " 'absence interested',\n",
       " 'absence interested party',\n",
       " 'absence perform',\n",
       " 'absence responsibility',\n",
       " 'abstract lowlevel',\n",
       " 'abstract lowlevel information',\n",
       " 'abt associate',\n",
       " 'abt associate inc',\n",
       " 'abt associate seeking',\n",
       " 'abuse clearly',\n",
       " 'abuse clearly application',\n",
       " 'abuse place',\n",
       " 'abuse place free',\n",
       " 'ac motor',\n",
       " 'ac motor vf',\n",
       " 'ac voltage',\n",
       " 'ac voltage complete',\n",
       " 'academic background',\n",
       " 'academic background least',\n",
       " 'academic institution',\n",
       " 'academic limited',\n",
       " 'academic limited specific',\n",
       " 'academic minimum',\n",
       " 'academic minimum essential',\n",
       " 'academic performance',\n",
       " 'academic professional',\n",
       " 'academic professional available',\n",
       " 'academy educational',\n",
       " 'academy educational development',\n",
       " 'academy entrance',\n",
       " 'academy entrance teryan',\n",
       " 'acbacredit agricole',\n",
       " 'acbacredit agricole bank',\n",
       " 'acca advantage',\n",
       " 'acca certificate',\n",
       " 'acca certification',\n",
       " 'acca cfa',\n",
       " 'acca cima',\n",
       " 'acca cpa',\n",
       " 'acca cpa qualification',\n",
       " 'acca equivalent',\n",
       " 'acca level',\n",
       " 'acca level plus',\n",
       " 'acca mba',\n",
       " 'acca mba plus',\n",
       " 'acca plus',\n",
       " 'acca plus 2014',\n",
       " 'acca plus computer',\n",
       " 'acca plus least',\n",
       " 'acca plus remuneration',\n",
       " 'acca plus year',\n",
       " 'acca qualification',\n",
       " 'acca qualification plus',\n",
       " 'acca similar',\n",
       " 'acca similar preferred',\n",
       " 'accacpa advantage',\n",
       " 'accelerate growth',\n",
       " 'accelerate growth target',\n",
       " 'accelerate transition',\n",
       " 'accelerate transition profitable',\n",
       " 'accelerating new',\n",
       " 'accelerating new enterprise',\n",
       " 'accept application',\n",
       " 'accept balance',\n",
       " 'accept balance cash',\n",
       " 'accept call',\n",
       " 'accept cash',\n",
       " 'accept clearly',\n",
       " 'accept clearly application',\n",
       " 'accept criticism',\n",
       " 'accept criticism 2014',\n",
       " 'accept criticism application',\n",
       " 'accept criticism fast',\n",
       " 'accept criticism fastpaced',\n",
       " 'accept criticism remuneration',\n",
       " 'accept employment',\n",
       " 'accept employment agency',\n",
       " 'accept process',\n",
       " 'accept process kind',\n",
       " 'accept reject',\n",
       " 'accept reject application',\n",
       " 'acceptable level',\n",
       " 'acceptable project',\n",
       " 'acceptable project norm',\n",
       " 'acceptance act',\n",
       " 'acceptance graduate',\n",
       " 'acceptance graduate master',\n",
       " 'acceptance order',\n",
       " 'acceptance order software',\n",
       " 'acceptance testing',\n",
       " 'acceptance testing broad',\n",
       " 'acceptance testing test',\n",
       " 'acceptance testing testing',\n",
       " 'acceptance testing working',\n",
       " 'accepted accounting',\n",
       " 'accepted accounting practice',\n",
       " 'accepted accounting principle',\n",
       " 'accepted accounting standard',\n",
       " 'accepted application',\n",
       " 'accepted auditing',\n",
       " 'accepted auditing standard',\n",
       " 'accepted case',\n",
       " 'accepted case applicant',\n",
       " 'accepted clearly',\n",
       " 'accepted clearly application',\n",
       " 'accepted electronic',\n",
       " 'accepted electronic submission',\n",
       " 'accepted email',\n",
       " 'accepted email query',\n",
       " 'accepted lieu',\n",
       " 'accepted lieu advanced',\n",
       " 'accepted linux',\n",
       " 'accepted linux high',\n",
       " 'accepted methodology',\n",
       " 'accepted methodology oop',\n",
       " 'accepted order',\n",
       " 'accepted order prepare',\n",
       " 'accepted shortlisted',\n",
       " 'accepted shortlisted candidate',\n",
       " 'accepted standard',\n",
       " 'accepted support',\n",
       " 'accepted support application',\n",
       " 'accepted way',\n",
       " 'accepted way thing',\n",
       " 'accepting expression',\n",
       " 'accepting expression interest',\n",
       " 'access affordable',\n",
       " 'access affordable better',\n",
       " 'access application',\n",
       " 'access application procedure',\n",
       " 'access component',\n",
       " 'access component participate',\n",
       " 'access component strategy',\n",
       " 'access control',\n",
       " 'access credit',\n",
       " 'access credit allow',\n",
       " 'access credit enable',\n",
       " 'access credit member',\n",
       " 'access database',\n",
       " 'access education',\n",
       " 'access education give',\n",
       " 'access electronic',\n",
       " 'access electronic mail',\n",
       " 'access etc',\n",
       " 'access excel',\n",
       " 'access finance',\n",
       " 'access finance addressing',\n",
       " 'access finance increase',\n",
       " 'access fluency',\n",
       " 'access fluency business',\n",
       " 'access guideline',\n",
       " 'access guideline standard',\n",
       " 'access health',\n",
       " 'access health social',\n",
       " 'access information',\n",
       " 'access information collect',\n",
       " 'access internet',\n",
       " 'access internet 2014',\n",
       " 'access internet application',\n",
       " 'access internet personal',\n",
       " 'access justice',\n",
       " 'access layer',\n",
       " 'access layer within',\n",
       " 'access market',\n",
       " 'access network',\n",
       " 'access network knowhow',\n",
       " 'access organize',\n",
       " 'access organize drive',\n",
       " 'access outlook',\n",
       " 'access power',\n",
       " 'access power point',\n",
       " 'access powerpoint',\n",
       " 'access primary',\n",
       " 'access primary health',\n",
       " 'access qualification',\n",
       " 'access relevance',\n",
       " 'access relevance republic',\n",
       " 'access resource',\n",
       " 'access right',\n",
       " 'access road',\n",
       " 'access road two',\n",
       " 'access storing',\n",
       " 'access storing processing',\n",
       " 'access strong',\n",
       " 'access system',\n",
       " 'access technology',\n",
       " 'access technology adonet',\n",
       " 'access training',\n",
       " 'access training program',\n",
       " 'access working',\n",
       " 'accessible reliable',\n",
       " 'accessible reliable financial',\n",
       " 'accessing credit',\n",
       " 'accessing credit assist',\n",
       " 'accessory brand',\n",
       " 'accessory brand place',\n",
       " 'accessory helping',\n",
       " 'accessory helping increase',\n",
       " 'accessory place',\n",
       " 'accessory place free',\n",
       " 'accident insurance',\n",
       " 'accident past',\n",
       " 'accident past year',\n",
       " 'accident perform',\n",
       " 'accident perform duty',\n",
       " 'accommodate rapid',\n",
       " 'accommodate rapid growth',\n",
       " 'accommodation arrangement',\n",
       " 'accommodation catering',\n",
       " 'accommodation issue',\n",
       " 'accommodation issue child',\n",
       " 'accommodation issue orientation',\n",
       " 'accommodation organize',\n",
       " 'accommodation organize customer',\n",
       " 'accompanied cover',\n",
       " 'accompanied cover send',\n",
       " 'accompanied cover subject',\n",
       " 'accompanied recent',\n",
       " 'accompanied recent identity',\n",
       " 'accompanied updated',\n",
       " 'accompanied updated cv',\n",
       " 'accompanying documentation',\n",
       " 'accompanying documentation returned',\n",
       " 'accompanying technical',\n",
       " 'accompanying technical documentation',\n",
       " 'accomplish according',\n",
       " 'accomplish according deadline',\n",
       " 'accomplish disbursement',\n",
       " 'accomplish disbursement collection',\n",
       " 'accomplish goal',\n",
       " 'accomplish goal four',\n",
       " 'accomplish objective',\n",
       " 'accomplish task',\n",
       " 'accomplished candidate',\n",
       " 'accomplished candidate may',\n",
       " 'accomplishing program',\n",
       " 'accomplishing program deliverable',\n",
       " 'accomplishing result',\n",
       " 'accomplishing result needed',\n",
       " 'accomplishment finding',\n",
       " 'accomplishment finding lesson',\n",
       " 'accomplishment gained',\n",
       " 'accomplishment gained previous',\n",
       " 'accomplishment grading',\n",
       " 'accomplishment grading test',\n",
       " 'accomplishment mission',\n",
       " 'accomplishment mission strategy',\n",
       " 'accomplishment order',\n",
       " 'accomplishment order head',\n",
       " 'accomplishment report',\n",
       " 'accomplishment report submit',\n",
       " 'accontech llc',\n",
       " 'accontech llc io',\n",
       " 'accordance accepted',\n",
       " 'accordance accounting',\n",
       " 'accordance accounting standard',\n",
       " 'accordance agreed',\n",
       " 'accordance aim',\n",
       " 'accordance aim mission',\n",
       " 'accordance annual',\n",
       " 'accordance approved',\n",
       " 'accordance approved internal',\n",
       " 'accordance bank',\n",
       " 'accordance best',\n",
       " 'accordance business',\n",
       " 'accordance corporate',\n",
       " 'accordance corporate policy',\n",
       " 'accordance council',\n",
       " 'accordance council europe',\n",
       " 'accordance current',\n",
       " 'accordance customer',\n",
       " 'accordance customer requirement',\n",
       " 'accordance defined',\n",
       " 'accordance defined standard',\n",
       " 'accordance donor',\n",
       " 'accordance donor requirement',\n",
       " 'accordance established',\n",
       " 'accordance established policy',\n",
       " 'accordance established procedure',\n",
       " 'accordance financial',\n",
       " 'accordance following',\n",
       " 'accordance following valuation',\n",
       " 'accordance given',\n",
       " 'accordance given specification',\n",
       " 'accordance guideline',\n",
       " 'accordance guideline ongoing',\n",
       " 'accordance highest',\n",
       " 'accordance highest international',\n",
       " 'accordance hsbc',\n",
       " 'accordance hsbc standard',\n",
       " 'accordance humanitarian',\n",
       " 'accordance humanitarian principle',\n",
       " 'accordance ifrs',\n",
       " 'accordance internal',\n",
       " 'accordance internal reporting',\n",
       " 'accordance international',\n",
       " 'accordance law',\n",
       " 'accordance law regulation',\n",
       " 'accordance legislation',\n",
       " 'accordance loan',\n",
       " 'accordance local',\n",
       " 'accordance local law',\n",
       " 'accordance local legislation',\n",
       " 'accordance monthly',\n",
       " 'accordance monthly plan',\n",
       " 'accordance national',\n",
       " 'accordance national legislation',\n",
       " 'accordance operating',\n",
       " 'accordance operating procedure',\n",
       " 'accordance plan',\n",
       " 'accordance plan accordance',\n",
       " 'accordance policy',\n",
       " 'accordance policy procedure',\n",
       " 'accordance procedure',\n",
       " 'accordance procedure specified',\n",
       " 'accordance program',\n",
       " 'accordance project',\n",
       " 'accordance project plan',\n",
       " 'accordance protocol',\n",
       " 'accordance protocol project',\n",
       " 'accordance ra',\n",
       " 'accordance ra effective',\n",
       " 'accordance ra legislation',\n",
       " 'accordance relevant',\n",
       " 'accordance requirement',\n",
       " 'accordance requirement keep',\n",
       " 'accordance requirement procedure',\n",
       " 'accordance section',\n",
       " 'accordance section selection',\n",
       " 'accordance set',\n",
       " 'accordance specific',\n",
       " 'accordance specific technical',\n",
       " 'accordance specified',\n",
       " 'accordance standard',\n",
       " 'accordance standard operating',\n",
       " 'accordance standard technology',\n",
       " 'accordance strategic',\n",
       " 'accordance strategy',\n",
       " 'accordance task',\n",
       " 'accordance task agreed',\n",
       " 'accordance technical',\n",
       " 'accordance term',\n",
       " 'accordance term compact',\n",
       " 'accordance undp',\n",
       " 'accordance undp rule',\n",
       " 'accordance usaid',\n",
       " 'accordance world',\n",
       " 'accordance world bank',\n",
       " 'accordance wtms',\n",
       " 'accordance wtms policy',\n",
       " 'accordance wv',\n",
       " 'accordance wv security',\n",
       " 'accordance wv strategy',\n",
       " 'according agreed',\n",
       " 'according agreed budget',\n",
       " 'according announcement',\n",
       " 'according announcement decree',\n",
       " 'according apple',\n",
       " 'according apple ui',\n",
       " 'according approved',\n",
       " 'according approved procedure',\n",
       " 'according arranged',\n",
       " 'according arranged scale',\n",
       " 'according bank',\n",
       " 'according brand',\n",
       " 'according brownwilson',\n",
       " 'according brownwilson group',\n",
       " 'according budget',\n",
       " 'according budget accountability',\n",
       " 'according business',\n",
       " 'according business requirement',\n",
       " 'according client',\n",
       " 'according client requirement',\n",
       " 'according contract',\n",
       " 'according current',\n",
       " 'according current strategy',\n",
       " 'according customer',\n",
       " 'according customer request',\n",
       " 'according deadline',\n",
       " 'according deadline basic',\n",
       " 'according deadline energetic',\n",
       " 'according deadline highly',\n",
       " 'according deadline pressure',\n",
       " 'according deadline productive',\n",
       " 'according deadline qualification',\n",
       " 'according deadline take',\n",
       " 'according demand',\n",
       " 'according donor',\n",
       " 'according established',\n",
       " 'according established policy',\n",
       " 'according established procedure',\n",
       " 'according existing',\n",
       " 'according first',\n",
       " 'according first last',\n",
       " 'according grade',\n",
       " 'according grade ameria',\n",
       " 'according grade ameriabank',\n",
       " 'according grade bank',\n",
       " 'according grade remuneration',\n",
       " 'according guideline',\n",
       " 'according ifrs',\n",
       " 'according implementation',\n",
       " 'according instruction',\n",
       " 'according internal',\n",
       " 'according internal external',\n",
       " 'according internal procedure',\n",
       " 'according internal regulation',\n",
       " 'according international',\n",
       " 'according law',\n",
       " 'according legislation',\n",
       " 'according legislation prepare',\n",
       " 'according legislation ra',\n",
       " 'according level',\n",
       " 'according local',\n",
       " 'according mcaarmenia',\n",
       " 'according mcaarmenia implement',\n",
       " 'according national',\n",
       " 'according need',\n",
       " 'according need well',\n",
       " 'according plan',\n",
       " 'according plan conduct',\n",
       " 'according plan responsibility',\n",
       " 'according policy',\n",
       " 'according policy standard',\n",
       " 'according preapproved',\n",
       " 'according preapproved objective',\n",
       " 'according procedure',\n",
       " 'according procedure stocked',\n",
       " 'according process',\n",
       " 'according project',\n",
       " 'according project need',\n",
       " 'according project plan',\n",
       " 'according project requirement',\n",
       " 'according provided',\n",
       " 'according quality',\n",
       " 'according quality standard',\n",
       " 'according ra',\n",
       " 'according ra legislation',\n",
       " 'according ra registration',\n",
       " 'according regulation',\n",
       " 'according requirement',\n",
       " 'according requirement participate',\n",
       " 'according requirement take',\n",
       " 'according rule',\n",
       " 'according sale',\n",
       " 'according sale plan',\n",
       " 'according sale procedure',\n",
       " 'according schedule',\n",
       " 'according set',\n",
       " 'according set schedule',\n",
       " 'according set standard',\n",
       " 'according several',\n",
       " 'according several software',\n",
       " 'according shop',\n",
       " 'according shop schedule',\n",
       " 'according specific',\n",
       " 'according specification',\n",
       " 'according standard',\n",
       " 'according standard guarantee',\n",
       " 'according strict',\n",
       " 'according strict deadline',\n",
       " 'according strong',\n",
       " 'according strong management',\n",
       " 'according submitted',\n",
       " 'according submitted cv',\n",
       " 'according technical',\n",
       " 'according technical documentation',\n",
       " 'according technical specification',\n",
       " 'according unfpa',\n",
       " 'according unfpa programme',\n",
       " 'according usaid',\n",
       " 'accordingly consulting',\n",
       " 'accordingly consulting appropriately',\n",
       " 'accordingly orientation',\n",
       " 'accordingly orientation translation',\n",
       " 'accordingly perform',\n",
       " 'accordingly perform task',\n",
       " 'account according',\n",
       " 'account according business',\n",
       " 'account accounting',\n",
       " 'account accounting software',\n",
       " 'account accurate',\n",
       " 'account analyze',\n",
       " 'account assist',\n",
       " 'account balance',\n",
       " 'account bank',\n",
       " 'account bank product',\n",
       " 'account build',\n",
       " 'account business',\n",
       " 'account carry',\n",
       " 'account carry cash',\n",
       " 'account cash',\n",
       " 'account check',\n",
       " 'account check completeness',\n",
       " 'account client',\n",
       " 'account client issue',\n",
       " 'account complexity',\n",
       " 'account complexity shortterm',\n",
       " 'account control',\n",
       " 'account coordinate',\n",
       " 'account cost',\n",
       " 'account cost donor',\n",
       " 'account current',\n",
       " 'account current guidance',\n",
       " 'account customer',\n",
       " 'account customer account',\n",
       " 'account customer build',\n",
       " 'account department',\n",
       " 'account document',\n",
       " 'account education',\n",
       " 'account education equivalent',\n",
       " 'account entry',\n",
       " 'account entry compiling',\n",
       " 'account file',\n",
       " 'account financial',\n",
       " 'account general',\n",
       " 'account general ledger',\n",
       " 'account including',\n",
       " 'account individual',\n",
       " 'account individual report',\n",
       " 'account information',\n",
       " 'account information customer',\n",
       " 'account information substantiate',\n",
       " 'account keep',\n",
       " 'account keep record',\n",
       " 'account liaise',\n",
       " 'account liaise bank',\n",
       " 'account maintain',\n",
       " 'account maintenance',\n",
       " 'account make',\n",
       " 'account make withdrawal',\n",
       " 'account management',\n",
       " 'account management achieving',\n",
       " 'account management compliance',\n",
       " 'account management skill',\n",
       " 'account management system',\n",
       " 'account manager',\n",
       " 'account manager incumbent',\n",
       " 'account manager key',\n",
       " 'account manager start',\n",
       " 'account manager term',\n",
       " 'account mcaarmenia',\n",
       " 'account mcaarmenia consortium',\n",
       " 'account monitor',\n",
       " 'account monthly',\n",
       " 'account opening',\n",
       " 'account operation',\n",
       " 'account operation without',\n",
       " 'account package',\n",
       " 'account payable',\n",
       " 'account payable account',\n",
       " 'account payable receivable',\n",
       " 'account payment',\n",
       " 'account perform',\n",
       " 'account perform accounting',\n",
       " 'account permanently',\n",
       " 'account permanently actual',\n",
       " 'account petty',\n",
       " 'account petty cash',\n",
       " 'account prepare',\n",
       " 'account process',\n",
       " 'account process order',\n",
       " 'account process payment',\n",
       " 'account profitability',\n",
       " 'account profitability demonstrated',\n",
       " 'account project',\n",
       " 'account project management',\n",
       " 'account proper',\n",
       " 'account proper documentation',\n",
       " 'account pursuant',\n",
       " 'account pursuant notice',\n",
       " 'account qualification',\n",
       " 'account qualification education',\n",
       " 'account receivable',\n",
       " 'account receivable collection',\n",
       " 'account receivables',\n",
       " 'account received',\n",
       " 'account received via',\n",
       " 'account reconciliation',\n",
       " 'account record',\n",
       " 'account refill',\n",
       " 'account refill cash',\n",
       " 'account report',\n",
       " 'account responsibility',\n",
       " 'account sale',\n",
       " 'account sale recognized',\n",
       " 'account service',\n",
       " 'account service process',\n",
       " 'account social',\n",
       " 'account social network',\n",
       " 'account staff',\n",
       " 'account staff coordinate',\n",
       " 'account statement',\n",
       " 'account statement confirmation',\n",
       " 'account statement relevant',\n",
       " 'account submit',\n",
       " 'account sufficient',\n",
       " 'account sufficient fund',\n",
       " 'account support',\n",
       " 'account tax',\n",
       " 'account tax legislation',\n",
       " 'account turnover',\n",
       " 'account verify',\n",
       " 'account verify accuracy',\n",
       " 'account well',\n",
       " 'account withdraw',\n",
       " 'account withdraw fund',\n",
       " 'accountability budgeting',\n",
       " 'accountability budgeting skill',\n",
       " 'accountability donor',\n",
       " 'accountability donor effective',\n",
       " 'accountability etc',\n",
       " 'accountability etc performance',\n",
       " 'accountability expenditure',\n",
       " 'accountability expenditure fund',\n",
       " 'accountability integrity',\n",
       " 'accountability integrity border',\n",
       " 'accountability interpersonal',\n",
       " 'accountability interpersonal skill',\n",
       " 'accountability justice',\n",
       " 'accountability justice system',\n",
       " 'accountability plan',\n",
       " 'accountability planning',\n",
       " 'accountability resource',\n",
       " 'accountability resource including',\n",
       " 'accountability sound',\n",
       " 'accountability sound judgment',\n",
       " 'accountability unido',\n",
       " 'accountability unido follows',\n",
       " 'accountability wv',\n",
       " 'accountability wv project',\n",
       " 'accountable ensuring',\n",
       " 'accountable ensuring necessary',\n",
       " 'accountable entity',\n",
       " 'accountable entity undertake',\n",
       " 'accountable integrity',\n",
       " 'accountable integrity transparency',\n",
       " 'accountable sale',\n",
       " 'accountable sale profit',\n",
       " 'accountancy acca',\n",
       " 'accountancy software',\n",
       " 'accountant accountant',\n",
       " 'accountant accounting',\n",
       " 'accountant accounting software',\n",
       " 'accountant accurate',\n",
       " 'accountant accurate timely',\n",
       " 'accountant announcement',\n",
       " 'accountant announcement code',\n",
       " 'accountant aregak',\n",
       " 'accountant aregak uco',\n",
       " 'accountant assist',\n",
       " 'accountant assist chief',\n",
       " 'accountant bank',\n",
       " 'accountant candidate',\n",
       " 'accountant candidate well',\n",
       " 'accountant carry',\n",
       " 'accountant carry accounting',\n",
       " 'accountant cascade',\n",
       " 'accountant cascade insurance',\n",
       " 'accountant cashier',\n",
       " 'accountant chief',\n",
       " 'accountant chief accountant',\n",
       " 'accountant conduct',\n",
       " 'accountant conduct daytoday',\n",
       " 'accountant control',\n",
       " 'accountant daily',\n",
       " 'accountant daily accounting',\n",
       " 'accountant deputy',\n",
       " 'accountant deputy chief',\n",
       " 'accountant direct',\n",
       " 'accountant direct supervision',\n",
       " 'accountant duration',\n",
       " 'accountant duration long',\n",
       " 'accountant equivalent',\n",
       " 'accountant establish',\n",
       " 'accountant establish monitor',\n",
       " 'accountant finance',\n",
       " 'accountant financial',\n",
       " 'accountant financial manager',\n",
       " 'accountant financial operation',\n",
       " 'accountant freda',\n",
       " 'accountant freda llc',\n",
       " 'accountant graduate',\n",
       " 'accountant graduate accounting',\n",
       " 'accountant handle',\n",
       " 'accountant ifrs',\n",
       " 'accountant ifrs accounting',\n",
       " 'accountant implement',\n",
       " 'accountant implement accounting',\n",
       " 'accountant implementing',\n",
       " 'accountant implementing accounting',\n",
       " 'accountant incumbent',\n",
       " 'accountant incumbent take',\n",
       " 'accountant intended',\n",
       " 'accountant intended audience',\n",
       " 'accountant internal',\n",
       " 'accountant internal control',\n",
       " 'accountant international',\n",
       " 'accountant least',\n",
       " 'accountant least year',\n",
       " 'accountant local',\n",
       " 'accountant location',\n",
       " 'accountant location yerevan',\n",
       " 'accountant looking',\n",
       " 'accountant maintain',\n",
       " 'accountant maintain accounting',\n",
       " 'accountant open',\n",
       " 'accountant open eligibility',\n",
       " 'accountant organize',\n",
       " 'accountant organize implement',\n",
       " 'accountant perform',\n",
       " 'accountant perform accounting',\n",
       " 'accountant perform duty',\n",
       " 'accountant performs',\n",
       " 'accountant performs duty',\n",
       " 'accountant plus',\n",
       " 'accountant position',\n",
       " 'accountant prepare',\n",
       " 'accountant qualification',\n",
       " 'accountant qualification certificate',\n",
       " 'accountant qualification graduate',\n",
       " 'accountant qualification university',\n",
       " 'accountant relevant',\n",
       " 'accountant report',\n",
       " 'accountant report chief',\n",
       " 'accountant responsibility',\n",
       " 'accountant responsibility assist',\n",
       " 'accountant responsibility conduct',\n",
       " 'accountant responsibility implement',\n",
       " 'accountant responsibility perform',\n",
       " 'accountant responsibility prepare',\n",
       " 'accountant sa',\n",
       " 'accountant sa group',\n",
       " 'accountant seeking',\n",
       " 'accountant si',\n",
       " 'accountant si holding',\n",
       " 'accountant similar',\n",
       " 'accountant similar position',\n",
       " 'accountant start',\n",
       " 'accountant start asap',\n",
       " 'accountant strong',\n",
       " 'accountant subject',\n",
       " 'accountant subject field',\n",
       " 'accountant subject line',\n",
       " 'accountant successful',\n",
       " 'accountant successful incumbent',\n",
       " 'accountant supervision',\n",
       " 'accountant tax',\n",
       " 'accountant term',\n",
       " 'accountant term full',\n",
       " 'accountant term fulltime',\n",
       " 'accountant term part',\n",
       " 'accountant university',\n",
       " 'accountant university accounting',\n",
       " 'accounting acca',\n",
       " 'accounting acca plus',\n",
       " 'accounting accordance',\n",
       " 'accounting accordance ra',\n",
       " 'accounting according',\n",
       " 'accounting accounting',\n",
       " 'accounting accounting software',\n",
       " 'accounting activity',\n",
       " 'accounting activity compliance',\n",
       " 'accounting activity fixed',\n",
       " 'accounting activity perform',\n",
       " 'accounting activity prepare',\n",
       " 'accounting activity responsibility',\n",
       " 'accounting administration',\n",
       " 'accounting administrative',\n",
       " 'accounting administrative duty',\n",
       " 'accounting analytical',\n",
       " 'accounting application',\n",
       " 'accounting area',\n",
       " 'accounting area accounting',\n",
       " 'accounting assistant',\n",
       " 'accounting assistant direct',\n",
       " 'accounting assistant term',\n",
       " 'accounting audit',\n",
       " 'accounting audit local',\n",
       " 'accounting auditing',\n",
       " 'accounting auditing financial',\n",
       " 'accounting auditing standard',\n",
       " 'accounting balance',\n",
       " 'accounting banking',\n",
       " 'accounting basic',\n",
       " 'accounting book',\n",
       " 'accounting bookkeeping',\n",
       " 'accounting budgeting',\n",
       " 'accounting budgeting cost',\n",
       " 'accounting business',\n",
       " 'accounting business administration',\n",
       " 'accounting carry',\n",
       " 'accounting cash',\n",
       " 'accounting certification',\n",
       " 'accounting client',\n",
       " 'accounting control',\n",
       " 'accounting control procedure',\n",
       " 'accounting data',\n",
       " 'accounting data entry',\n",
       " 'accounting department',\n",
       " 'accounting department accurate',\n",
       " 'accounting department activity',\n",
       " 'accounting department direct',\n",
       " 'accounting department responsibility',\n",
       " 'accounting department term',\n",
       " 'accounting document',\n",
       " 'accounting document maintain',\n",
       " 'accounting document submit',\n",
       " 'accounting documentation',\n",
       " 'accounting documentation branch',\n",
       " 'accounting documentation perform',\n",
       " 'accounting documentation prepare',\n",
       " 'accounting duty',\n",
       " 'accounting duty assigned',\n",
       " 'accounting economics',\n",
       " 'accounting economics field',\n",
       " 'accounting economics least',\n",
       " 'accounting entry',\n",
       " 'accounting entry accounting',\n",
       " 'accounting entry report',\n",
       " 'accounting equivalent',\n",
       " 'accounting field',\n",
       " 'accounting field accounting',\n",
       " 'accounting field least',\n",
       " 'accounting finance',\n",
       " 'accounting finance banking',\n",
       " 'accounting finance business',\n",
       " 'accounting finance economics',\n",
       " 'accounting finance economy',\n",
       " 'accounting finance field',\n",
       " 'accounting finance including',\n",
       " 'accounting finance least',\n",
       " 'accounting finance management',\n",
       " 'accounting finance mba',\n",
       " 'accounting finance minimum',\n",
       " 'accounting finance relevant',\n",
       " 'accounting finance year',\n",
       " 'accounting financial',\n",
       " 'accounting financial analysis',\n",
       " 'accounting financial information',\n",
       " 'accounting financial management',\n",
       " 'accounting financial mean',\n",
       " 'accounting financial report',\n",
       " 'accounting financial reporting',\n",
       " 'accounting financial tax',\n",
       " 'accounting firm',\n",
       " 'accounting fluency',\n",
       " 'accounting form',\n",
       " 'accounting formulation',\n",
       " 'accounting formulation carry',\n",
       " 'accounting formulation economic',\n",
       " 'accounting function',\n",
       " 'accounting function duty',\n",
       " 'accounting function general',\n",
       " 'accounting function including',\n",
       " 'accounting hr',\n",
       " 'accounting ifrs',\n",
       " 'accounting ifrs standard',\n",
       " 'accounting information',\n",
       " 'accounting information processing',\n",
       " 'accounting insurance',\n",
       " 'accounting intermediate',\n",
       " 'accounting internal',\n",
       " 'accounting internal control',\n",
       " 'accounting international',\n",
       " 'accounting international accounting',\n",
       " 'accounting inventory',\n",
       " 'accounting inventory fixed',\n",
       " 'accounting issue',\n",
       " 'accounting language',\n",
       " 'accounting law',\n",
       " 'accounting law regulation',\n",
       " 'accounting least',\n",
       " 'accounting least year',\n",
       " 'accounting legal',\n",
       " 'accounting legislation',\n",
       " 'accounting loan',\n",
       " 'accounting maintain',\n",
       " 'accounting maintenance',\n",
       " 'accounting maintenance report',\n",
       " 'accounting management',\n",
       " 'accounting management report',\n",
       " 'accounting marketing',\n",
       " 'accounting master',\n",
       " 'accounting master finance',\n",
       " 'accounting matter',\n",
       " 'accounting mba',\n",
       " 'accounting mba asset',\n",
       " 'accounting mba considered',\n",
       " 'accounting mba preferred',\n",
       " 'accounting minimum',\n",
       " 'accounting operation',\n",
       " 'accounting operational',\n",
       " 'accounting optional',\n",
       " 'accounting optional mean',\n",
       " 'accounting package',\n",
       " 'accounting payroll',\n",
       " 'accounting perform',\n",
       " 'accounting plus',\n",
       " 'accounting plus five',\n",
       " 'accounting plus remuneration',\n",
       " 'accounting policy',\n",
       " 'accounting policy control',\n",
       " 'accounting policy prepare',\n",
       " 'accounting policy procedure',\n",
       " 'accounting position',\n",
       " 'accounting position holder',\n",
       " 'accounting practice',\n",
       " 'accounting practice computer',\n",
       " 'accounting practice law',\n",
       " 'accounting practice standard',\n",
       " 'accounting preferably',\n",
       " 'accounting preparation',\n",
       " 'accounting prepare',\n",
       " 'accounting principle',\n",
       " 'accounting principle practice',\n",
       " 'accounting principle proactive',\n",
       " 'accounting principle procedure',\n",
       " ...]"
      ]
     },
     "execution_count": 86,
     "metadata": {},
     "output_type": "execute_result"
    }
   ],
   "source": [
    "X_train_tokens"
   ]
  },
  {
   "cell_type": "markdown",
   "metadata": {},
   "source": [
    "### Lemmatization"
   ]
  },
  {
   "cell_type": "code",
   "execution_count": 87,
   "metadata": {},
   "outputs": [],
   "source": [
    "# define a function that accepts text and returns a list of lemmas\n",
    "def split_into_lemmas(text):\n",
    "   # text = unicode(text, 'utf-8').lower()\n",
    "    words = TextBlob(text).words\n",
    "    return [word.lemmatize(pos='v') for word in words]"
   ]
  },
  {
   "cell_type": "code",
   "execution_count": 88,
   "metadata": {},
   "outputs": [
    {
     "name": "stdout",
     "output_type": "stream",
     "text": [
      "Features Train:  21865\n",
      "Features Test:  21865\n"
     ]
    }
   ],
   "source": [
    "# use split_into_lemmas as the feature extraction function (WARNING: SLOW!)\n",
    "vect = CountVectorizer(analyzer=split_into_lemmas)\n",
    "tokenize_test(vect)"
   ]
  },
  {
   "cell_type": "code",
   "execution_count": 89,
   "metadata": {},
   "outputs": [
    {
     "name": "stderr",
     "output_type": "stream",
     "text": [
      "[nltk_data] Downloading package punkt to\n",
      "[nltk_data]     C:\\Users\\Kunnu\\AppData\\Roaming\\nltk_data...\n",
      "[nltk_data]   Unzipping tokenizers\\punkt.zip.\n"
     ]
    },
    {
     "data": {
      "text/plain": [
       "True"
      ]
     },
     "execution_count": 89,
     "metadata": {},
     "output_type": "execute_result"
    }
   ],
   "source": [
    "import nltk\n",
    "nltk.download('punkt')"
   ]
  },
  {
   "cell_type": "code",
   "execution_count": 90,
   "metadata": {},
   "outputs": [
    {
     "name": "stderr",
     "output_type": "stream",
     "text": [
      "[nltk_data] Downloading package wordnet to\n",
      "[nltk_data]     C:\\Users\\Kunnu\\AppData\\Roaming\\nltk_data...\n",
      "[nltk_data]   Package wordnet is already up-to-date!\n"
     ]
    },
    {
     "data": {
      "text/plain": [
       "True"
      ]
     },
     "execution_count": 90,
     "metadata": {},
     "output_type": "execute_result"
    }
   ],
   "source": [
    "nltk.download('wordnet')"
   ]
  },
  {
   "cell_type": "markdown",
   "metadata": {},
   "source": [
    "### Extension of Stop words"
   ]
  },
  {
   "cell_type": "code",
   "execution_count": 91,
   "metadata": {},
   "outputs": [
    {
     "data": {
      "text/plain": [
       "application       58515\n",
       "skill             49860\n",
       "project           38540\n",
       "development       36720\n",
       "language          31700\n",
       "opportunity       29561\n",
       "management        27111\n",
       "year              22796\n",
       "procedure         22205\n",
       "software          21140\n",
       "responsibility    20789\n",
       "service           20761\n",
       "system            20008\n",
       "candidate         19730\n",
       "report            19606\n",
       "activity          18626\n",
       "yerevan           18158\n",
       "deadline          17315\n",
       "support           16963\n",
       "design            16929\n",
       "financial         16920\n",
       "program           16479\n",
       "position          16409\n",
       "qualification     16130\n",
       "business          16082\n",
       "announcement      16009\n",
       "technical         15825\n",
       "information       15747\n",
       "follow            15656\n",
       "strong            15049\n",
       "field             14890\n",
       "clearly           14836\n",
       "career            14642\n",
       "customer          14640\n",
       "manager           14531\n",
       "available         14397\n",
       "russian           14134\n",
       "post              13823\n",
       "place             13811\n",
       "least             13689\n",
       "description       13684\n",
       "location          13585\n",
       "link              13562\n",
       "international     13438\n",
       "free              13416\n",
       "opening           13392\n",
       "thanks            13371\n",
       "learned           13295\n",
       "posting           13189\n",
       "relevant          13161\n",
       "dtype: int64"
      ]
     },
     "execution_count": 91,
     "metadata": {},
     "output_type": "execute_result"
    }
   ],
   "source": [
    "freq = pd.Series(' '.join(Online_job_Token['col_all']).split()).value_counts()[:50]\n",
    "freq"
   ]
  },
  {
   "cell_type": "code",
   "execution_count": 92,
   "metadata": {},
   "outputs": [],
   "source": [
    "stop.extend(('knowledge',\n",
    "'experience',\n",
    "'job',\n",
    "'skills',\n",
    "'work',\n",
    "'applicaton',\n",
    "'ability',\n",
    "'armenia',\n",
    "'please',\n",
    "'website',\n",
    "'mention',\n",
    "'the',\n",
    "'english',\n",
    "'wwwcareercenteram',\n",
    "'company',\n",
    "'team',\n",
    "'excellent',\n",
    "'good',\n",
    "'armenian',\n",
    "'required',\n",
    "'organization',\n",
    "'date',\n",
    "'to',\n",
    "'responsible',\n",
    "'office',\n",
    "'years',\n",
    "'communication',\n",
    "'yeveran',\n",
    "'time',\n",
    "'ensure',\n",
    "'provide',\n",
    "'letter',\n",
    "'develop',\n",
    "'related',\n",
    "'activities',\n",
    "'center',\n",
    "'languages',\n",
    "'responsibilites',\n",
    "'degree',\n",
    "'candidates',\n",
    "'title'))"
   ]
  },
  {
   "cell_type": "code",
   "execution_count": 93,
   "metadata": {},
   "outputs": [
    {
     "name": "stdout",
     "output_type": "stream",
     "text": [
      "Features:  1200\n",
      "Train Accuracy:  0.9145281668541049\n",
      "Test Accuracy:  0.9172033118675254\n"
     ]
    }
   ],
   "source": [
    "vect = TfidfVectorizer(analyzer=split_into_lemmas, ngram_range=(2,3), min_df=5, max_features=1200, stop_words='english')\n",
    "tokenize_test1(vect)"
   ]
  },
  {
   "cell_type": "markdown",
   "metadata": {},
   "source": [
    "##  Term Frequency-Inverse Document Frequency (TF-IDF)"
   ]
  },
  {
   "cell_type": "code",
   "execution_count": 99,
   "metadata": {},
   "outputs": [
    {
     "data": {
      "text/plain": [
       "(13042, 3838)"
      ]
     },
     "execution_count": 99,
     "metadata": {},
     "output_type": "execute_result"
    }
   ],
   "source": [
    "# create a document-term matrix using TF-IDF\n",
    "vect = TfidfVectorizer(analyzer=split_into_lemmas,min_df=5,stop_words='english')\n",
    "dtm = vect.fit_transform(Online_job_Token.JobDescription5)\n",
    "features = vect.get_feature_names()\n",
    "dtm.shape"
   ]
  },
  {
   "cell_type": "code",
   "execution_count": 100,
   "metadata": {},
   "outputs": [
    {
     "data": {
      "text/plain": [
       "3838"
      ]
     },
     "execution_count": 100,
     "metadata": {},
     "output_type": "execute_result"
    }
   ],
   "source": [
    "len(vect.get_feature_names())"
   ]
  },
  {
   "cell_type": "code",
   "execution_count": 101,
   "metadata": {},
   "outputs": [
    {
     "data": {
      "text/html": [
       "<div>\n",
       "<style scoped>\n",
       "    .dataframe tbody tr th:only-of-type {\n",
       "        vertical-align: middle;\n",
       "    }\n",
       "\n",
       "    .dataframe tbody tr th {\n",
       "        vertical-align: top;\n",
       "    }\n",
       "\n",
       "    .dataframe thead th {\n",
       "        text-align: right;\n",
       "    }\n",
       "</style>\n",
       "<table border=\"1\" class=\"dataframe\">\n",
       "  <thead>\n",
       "    <tr style=\"text-align: right;\">\n",
       "      <th></th>\n",
       "      <th>a</th>\n",
       "      <th>aarhus</th>\n",
       "      <th>ab</th>\n",
       "      <th>abilities</th>\n",
       "      <th>ability</th>\n",
       "      <th>able</th>\n",
       "      <th>about</th>\n",
       "      <th>abovementioned</th>\n",
       "      <th>abovian</th>\n",
       "      <th>abovyan</th>\n",
       "      <th>...</th>\n",
       "      <th>yerevan</th>\n",
       "      <th>yes</th>\n",
       "      <th>yet</th>\n",
       "      <th>you</th>\n",
       "      <th>young</th>\n",
       "      <th>youth</th>\n",
       "      <th>zeppelin</th>\n",
       "      <th>zone</th>\n",
       "      <th>zte</th>\n",
       "      <th>zvartnots</th>\n",
       "    </tr>\n",
       "  </thead>\n",
       "  <tbody>\n",
       "    <tr>\n",
       "      <th>0</th>\n",
       "      <td>0.0</td>\n",
       "      <td>0.0</td>\n",
       "      <td>0.0</td>\n",
       "      <td>0.0</td>\n",
       "      <td>0.0</td>\n",
       "      <td>0.0</td>\n",
       "      <td>0.0</td>\n",
       "      <td>0.0</td>\n",
       "      <td>0.0</td>\n",
       "      <td>0.0</td>\n",
       "      <td>...</td>\n",
       "      <td>0.0</td>\n",
       "      <td>0.0</td>\n",
       "      <td>0.0</td>\n",
       "      <td>0.0</td>\n",
       "      <td>0.0</td>\n",
       "      <td>0.0</td>\n",
       "      <td>0.0</td>\n",
       "      <td>0.0</td>\n",
       "      <td>0.0</td>\n",
       "      <td>0.0</td>\n",
       "    </tr>\n",
       "    <tr>\n",
       "      <th>1</th>\n",
       "      <td>0.0</td>\n",
       "      <td>0.0</td>\n",
       "      <td>0.0</td>\n",
       "      <td>0.0</td>\n",
       "      <td>0.0</td>\n",
       "      <td>0.0</td>\n",
       "      <td>0.0</td>\n",
       "      <td>0.0</td>\n",
       "      <td>0.0</td>\n",
       "      <td>0.0</td>\n",
       "      <td>...</td>\n",
       "      <td>0.0</td>\n",
       "      <td>0.0</td>\n",
       "      <td>0.0</td>\n",
       "      <td>0.0</td>\n",
       "      <td>0.0</td>\n",
       "      <td>0.0</td>\n",
       "      <td>0.0</td>\n",
       "      <td>0.0</td>\n",
       "      <td>0.0</td>\n",
       "      <td>0.0</td>\n",
       "    </tr>\n",
       "    <tr>\n",
       "      <th>2</th>\n",
       "      <td>0.0</td>\n",
       "      <td>0.0</td>\n",
       "      <td>0.0</td>\n",
       "      <td>0.0</td>\n",
       "      <td>0.0</td>\n",
       "      <td>0.0</td>\n",
       "      <td>0.0</td>\n",
       "      <td>0.0</td>\n",
       "      <td>0.0</td>\n",
       "      <td>0.0</td>\n",
       "      <td>...</td>\n",
       "      <td>0.0</td>\n",
       "      <td>0.0</td>\n",
       "      <td>0.0</td>\n",
       "      <td>0.0</td>\n",
       "      <td>0.0</td>\n",
       "      <td>0.0</td>\n",
       "      <td>0.0</td>\n",
       "      <td>0.0</td>\n",
       "      <td>0.0</td>\n",
       "      <td>0.0</td>\n",
       "    </tr>\n",
       "    <tr>\n",
       "      <th>3</th>\n",
       "      <td>0.0</td>\n",
       "      <td>0.0</td>\n",
       "      <td>0.0</td>\n",
       "      <td>0.0</td>\n",
       "      <td>0.0</td>\n",
       "      <td>0.0</td>\n",
       "      <td>0.0</td>\n",
       "      <td>0.0</td>\n",
       "      <td>0.0</td>\n",
       "      <td>0.0</td>\n",
       "      <td>...</td>\n",
       "      <td>0.0</td>\n",
       "      <td>0.0</td>\n",
       "      <td>0.0</td>\n",
       "      <td>0.0</td>\n",
       "      <td>0.0</td>\n",
       "      <td>0.0</td>\n",
       "      <td>0.0</td>\n",
       "      <td>0.0</td>\n",
       "      <td>0.0</td>\n",
       "      <td>0.0</td>\n",
       "    </tr>\n",
       "    <tr>\n",
       "      <th>4</th>\n",
       "      <td>0.0</td>\n",
       "      <td>0.0</td>\n",
       "      <td>0.0</td>\n",
       "      <td>0.0</td>\n",
       "      <td>0.0</td>\n",
       "      <td>0.0</td>\n",
       "      <td>0.0</td>\n",
       "      <td>0.0</td>\n",
       "      <td>0.0</td>\n",
       "      <td>0.0</td>\n",
       "      <td>...</td>\n",
       "      <td>0.0</td>\n",
       "      <td>0.0</td>\n",
       "      <td>0.0</td>\n",
       "      <td>0.0</td>\n",
       "      <td>0.0</td>\n",
       "      <td>0.0</td>\n",
       "      <td>0.0</td>\n",
       "      <td>0.0</td>\n",
       "      <td>0.0</td>\n",
       "      <td>0.0</td>\n",
       "    </tr>\n",
       "  </tbody>\n",
       "</table>\n",
       "<p>5 rows × 3838 columns</p>\n",
       "</div>"
      ],
      "text/plain": [
       "     a  aarhus   ab  abilities  ability  able  about  abovementioned  abovian  \\\n",
       "0  0.0  0.0     0.0  0.0        0.0      0.0   0.0    0.0             0.0       \n",
       "1  0.0  0.0     0.0  0.0        0.0      0.0   0.0    0.0             0.0       \n",
       "2  0.0  0.0     0.0  0.0        0.0      0.0   0.0    0.0             0.0       \n",
       "3  0.0  0.0     0.0  0.0        0.0      0.0   0.0    0.0             0.0       \n",
       "4  0.0  0.0     0.0  0.0        0.0      0.0   0.0    0.0             0.0       \n",
       "\n",
       "   abovyan  ...  yerevan  yes  yet  you  young  youth  zeppelin  zone  zte  \\\n",
       "0  0.0      ...  0.0      0.0  0.0  0.0  0.0    0.0    0.0       0.0   0.0   \n",
       "1  0.0      ...  0.0      0.0  0.0  0.0  0.0    0.0    0.0       0.0   0.0   \n",
       "2  0.0      ...  0.0      0.0  0.0  0.0  0.0    0.0    0.0       0.0   0.0   \n",
       "3  0.0      ...  0.0      0.0  0.0  0.0  0.0    0.0    0.0       0.0   0.0   \n",
       "4  0.0      ...  0.0      0.0  0.0  0.0  0.0    0.0    0.0       0.0   0.0   \n",
       "\n",
       "   zvartnots  \n",
       "0  0.0        \n",
       "1  0.0        \n",
       "2  0.0        \n",
       "3  0.0        \n",
       "4  0.0        \n",
       "\n",
       "[5 rows x 3838 columns]"
      ]
     },
     "execution_count": 101,
     "metadata": {},
     "output_type": "execute_result"
    }
   ],
   "source": [
    "pd.DataFrame(dtm.toarray(),columns=vect.get_feature_names()).head()"
   ]
  }
 ],
 "metadata": {
  "kernelspec": {
   "display_name": "Python 3",
   "language": "python",
   "name": "python3"
  },
  "language_info": {
   "codemirror_mode": {
    "name": "ipython",
    "version": 3
   },
   "file_extension": ".py",
   "mimetype": "text/x-python",
   "name": "python",
   "nbconvert_exporter": "python",
   "pygments_lexer": "ipython3",
   "version": "3.7.3"
  }
 },
 "nbformat": 4,
 "nbformat_minor": 2
}
